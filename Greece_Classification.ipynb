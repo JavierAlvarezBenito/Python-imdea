{
  "nbformat": 4,
  "nbformat_minor": 0,
  "metadata": {
    "colab": {
      "name": "Greece_Classification.ipynb",
      "provenance": [],
      "collapsed_sections": [],
      "toc_visible": true
    },
    "kernelspec": {
      "name": "python3",
      "display_name": "Python 3"
    },
    "language_info": {
      "name": "python"
    },
    "accelerator": "GPU"
  },
  "cells": [
    {
      "cell_type": "code",
      "metadata": {
        "colab": {
          "base_uri": "https://localhost:8080/"
        },
        "id": "yD0Ra9PsS8u9",
        "outputId": "57fd6408-efd9-4d0f-db34-5164859b708d"
      },
      "source": [
        "from google.colab import drive\n",
        "drive.mount('/content/drive')"
      ],
      "execution_count": 1,
      "outputs": [
        {
          "output_type": "stream",
          "text": [
            "Mounted at /content/drive\n"
          ],
          "name": "stdout"
        }
      ]
    },
    {
      "cell_type": "code",
      "metadata": {
        "id": "94_MGZYaTCVf"
      },
      "source": [
        "# libraries\n",
        "import numpy as np\n",
        "import matplotlib.pyplot as plt\n",
        "import pandas as pd\n",
        "import seaborn as sns\n",
        "from sklearn.model_selection import train_test_split\n",
        "from sklearn.metrics import plot_confusion_matrix\n",
        "from sklearn.metrics import confusion_matrix\n",
        "from sklearn.metrics import accuracy_score\n",
        "import os\n",
        "import pathlib\n",
        "\n",
        "import tensorflow as tf\n",
        "\n",
        "from tensorflow import keras\n",
        "from tensorflow.keras import layers\n",
        "\n",
        "\n",
        "\n",
        "import scipy.stats as ss\n",
        "import sklearn\n",
        "from sklearn.model_selection import train_test_split, cross_val_score\n",
        "from sklearn.linear_model import LogisticRegression\n",
        "from sklearn.ensemble import RandomForestClassifier\n",
        "from sklearn.svm import SVC\n",
        "from sklearn import linear_model\n",
        "from sklearn import model_selection\n",
        "from sklearn.metrics import classification_report\n",
        "from sklearn.metrics import precision_score\n",
        "from sklearn.neighbors import KNeighborsClassifier\n",
        "from sklearn.model_selection import learning_curve, GridSearchCV\n",
        "from sklearn.pipeline import Pipeline\n",
        "from sklearn import preprocessing\n",
        "from sklearn import tree\n",
        "from sklearn.naive_bayes import GaussianNB\n",
        "from mlxtend.plotting import plot_learning_curves\n",
        "from sklearn.tree import export_graphviz\n",
        "from six import StringIO\n",
        "from IPython.display import Image  \n",
        "import pydotplus\n",
        "from sklearn.model_selection import validation_curve\n",
        "import tensorflow as tf\n",
        "from tensorflow import keras\n",
        "from tensorflow.keras import layers\n",
        "from tensorflow.keras import callbacks\n",
        "from keras.models import Sequential\n",
        "from keras.wrappers.scikit_learn import KerasClassifier\n",
        "from keras.utils import np_utils\n",
        "from sklearn.model_selection import KFold\n",
        "from tensorflow.keras.layers import Dense, Input, Flatten, Dropout, Conv2D, MaxPooling2D, GlobalAveragePooling2D, GlobalMaxPooling2D\n",
        "from tensorflow.keras.callbacks import EarlyStopping\n",
        "from tensorflow.keras.layers import BatchNormalization"
      ],
      "execution_count": 2,
      "outputs": []
    },
    {
      "cell_type": "code",
      "metadata": {
        "id": "594wGxIRTCdx"
      },
      "source": [
        "df = pd.read_csv(\"/content/drive/MyDrive/Colab Notebooks/GR_v10_Tested.csv\")"
      ],
      "execution_count": 3,
      "outputs": []
    },
    {
      "cell_type": "code",
      "metadata": {
        "colab": {
          "base_uri": "https://localhost:8080/"
        },
        "id": "xsCDGGS56-cC",
        "outputId": "2283dcb5-897c-425d-d61d-e26f3725e76e"
      },
      "source": [
        "df.columns.values"
      ],
      "execution_count": null,
      "outputs": [
        {
          "output_type": "execute_result",
          "data": {
            "text/plain": [
              "array(['survey_region', 'survey_version', 'weight', 'Finished',\n",
              "       'RecordedDate', 'intro1', 'intro2', 'A1', 'A2_2_1', 'A2_2_2', 'B2',\n",
              "       'B4', 'V4_2', 'C9', 'E6', 'E5', 'Q_Language', 'Q_TotalDuration',\n",
              "       'GID_0', 'GID_1', 'ISO_3', 'NAME_0', 'NAME_1', 'country_agg',\n",
              "       'country_region_numeric', 'region_agg', 'X1w_0unw', 'ISO2',\n",
              "       'date_from_file', 'date', 'Unnamed..0', 'age', 'B1_1.-77',\n",
              "       'B1_1.1', 'B1_1.2', 'B1_2.-77', 'B1_2.1', 'B1_2.2', 'B1_3.-77',\n",
              "       'B1_3.1', 'B1_3.2', 'B1_4.-77', 'B1_4.1', 'B1_4.2', 'B1_5.-77',\n",
              "       'B1_5.1', 'B1_5.2', 'B1_6.-77', 'B1_6.1', 'B1_6.2', 'B1_7.-77',\n",
              "       'B1_7.1', 'B1_7.2', 'B1_8.-77', 'B1_8.1', 'B1_8.2', 'B1_9.-77',\n",
              "       'B1_9.1', 'B1_9.2', 'B1_10.-77', 'B1_10.1', 'B1_10.2', 'B1_11.-77',\n",
              "       'B1_11.1', 'B1_11.2', 'B1_12.-77', 'B1_12.1', 'B1_12.2',\n",
              "       'B1_13.-77', 'B1_13.1', 'B1_13.2', 'B1_14.-77', 'B1_14.1',\n",
              "       'B1_14.2', 'B1b_x1.-99', 'B1b_x1.-77', 'B1b_x1.1', 'B1b_x1.2',\n",
              "       'B1b_x2.-99', 'B1b_x2.-77', 'B1b_x2.1', 'B1b_x2.2', 'B1b_x3.-99',\n",
              "       'B1b_x3.-77', 'B1b_x3.1', 'B1b_x3.2', 'B1b_x4.-99', 'B1b_x4.-77',\n",
              "       'B1b_x4.1', 'B1b_x4.2', 'B1b_x5.-99', 'B1b_x5.-77', 'B1b_x5.1',\n",
              "       'B1b_x5.2', 'B1b_x6.-99', 'B1b_x6.-77', 'B1b_x6.1', 'B1b_x6.2',\n",
              "       'B1b_x7.-99', 'B1b_x7.-77', 'B1b_x7.1', 'B1b_x7.2', 'B1b_x8.-99',\n",
              "       'B1b_x8.-77', 'B1b_x8.1', 'B1b_x8.2', 'B1b_x9.-99', 'B1b_x9.-77',\n",
              "       'B1b_x9.1', 'B1b_x9.2', 'B1b_x10.-99', 'B1b_x10.-77', 'B1b_x10.1',\n",
              "       'B1b_x10.2', 'B1b_x11.-99', 'B1b_x11.-77', 'B1b_x11.1',\n",
              "       'B1b_x11.2', 'B1b_x12.-99', 'B1b_x12.-77', 'B1b_x12.1',\n",
              "       'B1b_x12.2', 'B1b_x13.-99', 'B1b_x13.-77', 'B1b_x13.1',\n",
              "       'B1b_x13.2', 'B1b_x14.-99', 'B1b_x14.-77', 'B1b_x14.1',\n",
              "       'B1b_x14.2', 'B3.-99', 'B3.-77', 'B3.1', 'B3.2', 'B5.-99',\n",
              "       'B5.-77', 'B5.1', 'B5.2', 'B6.-99', 'B6.-77', 'B6.1', 'B6.2',\n",
              "       'B7.-99', 'B7.-77', 'B7.1', 'B7.2', 'B8.-99', 'B8.-77', 'B8.1',\n",
              "       'B8.2', 'B8.3', 'B9.-99', 'B9.-77', 'B9.1', 'B9.2', 'B9.3',\n",
              "       'B10.-99', 'B10.-77', 'B10.1', 'B10.2', 'B10.3', 'B11.-99',\n",
              "       'B11.-77', 'B11.1', 'B11.2', 'V1.-99', 'V1.-77', 'V1.1', 'V1.2',\n",
              "       'V1.3', 'V2.-99', 'V2.-77', 'V2.1', 'V2.2', 'V2.3', 'V2a.-99',\n",
              "       'V2a.-77', 'V2a.1', 'V2a.2', 'V2a.3', 'V3.-99', 'V3.-77', 'V3.1',\n",
              "       'V3.2', 'V3.3', 'V3.4', 'V4_1.-99', 'V4_1.-77', 'V4_1.1', 'V4_1.2',\n",
              "       'V4_1.3', 'V4_3.-99', 'V4_3.-77', 'V4_3.1', 'V4_3.2', 'V4_3.3',\n",
              "       'V4_4.-99', 'V4_4.-77', 'V4_4.1', 'V4_4.2', 'V4_4.3', 'V4_5.-99',\n",
              "       'V4_5.-77', 'V4_5.1', 'V4_5.2', 'V4_5.3', 'V4_6.-99', 'V4_6.-77',\n",
              "       'V4_6.1', 'V4_6.2', 'V4_6.3', 'V5a_1.-99', 'V5a_1.-77', 'V5a_1.0',\n",
              "       'V5a_1.1', 'V5a_2.-99', 'V5a_2.-77', 'V5a_2.0', 'V5a_2.1',\n",
              "       'V5a_3.-99', 'V5a_3.-77', 'V5a_3.0', 'V5a_3.1', 'V5a_4.-99',\n",
              "       'V5a_4.-77', 'V5a_4.0', 'V5a_4.1', 'V5a_5.-99', 'V5a_5.-77',\n",
              "       'V5a_5.0', 'V5a_5.1', 'V5a_6.-99', 'V5a_6.-77', 'V5a_6.0',\n",
              "       'V5a_6.1', 'V5a_7.-99', 'V5a_7.-77', 'V5a_7.0', 'V5a_7.1',\n",
              "       'V5a_8.-99', 'V5a_8.-77', 'V5a_8.0', 'V5a_8.1', 'V5a_9.-99',\n",
              "       'V5a_9.-77', 'V5a_9.0', 'V5a_9.1', 'V5a_10.-99', 'V5a_10.-77',\n",
              "       'V5a_10.0', 'V5a_10.1', 'V5b_1.-99', 'V5b_1.-77', 'V5b_1.0',\n",
              "       'V5b_1.1', 'V5b_2.-99', 'V5b_2.-77', 'V5b_2.0', 'V5b_2.1',\n",
              "       'V5b_3.-99', 'V5b_3.-77', 'V5b_3.0', 'V5b_3.1', 'V5b_4.-99',\n",
              "       'V5b_4.-77', 'V5b_4.0', 'V5b_4.1', 'V5b_5.-99', 'V5b_5.-77',\n",
              "       'V5b_5.0', 'V5b_5.1', 'V5b_6.-99', 'V5b_6.-77', 'V5b_6.0',\n",
              "       'V5b_6.1', 'V5b_7.-99', 'V5b_7.-77', 'V5b_7.0', 'V5b_7.1',\n",
              "       'V5b_8.-99', 'V5b_8.-77', 'V5b_8.0', 'V5b_8.1', 'V5b_9.-99',\n",
              "       'V5b_9.-77', 'V5b_9.0', 'V5b_9.1', 'V5b_10.-99', 'V5b_10.-77',\n",
              "       'V5b_10.0', 'V5b_10.1', 'V5c_1.-99', 'V5c_1.-77', 'V5c_1.0',\n",
              "       'V5c_1.1', 'V5c_2.-99', 'V5c_2.-77', 'V5c_2.0', 'V5c_2.1',\n",
              "       'V5c_3.-99', 'V5c_3.-77', 'V5c_3.0', 'V5c_3.1', 'V5c_4.-99',\n",
              "       'V5c_4.-77', 'V5c_4.0', 'V5c_4.1', 'V5c_5.-99', 'V5c_5.-77',\n",
              "       'V5c_5.0', 'V5c_5.1', 'V5c_6.-99', 'V5c_6.-77', 'V5c_6.0',\n",
              "       'V5c_6.1', 'V5c_7.-99', 'V5c_7.-77', 'V5c_7.0', 'V5c_7.1',\n",
              "       'V5c_8.-99', 'V5c_8.-77', 'V5c_8.0', 'V5c_8.1', 'V5c_9.-99',\n",
              "       'V5c_9.-77', 'V5c_9.0', 'V5c_9.1', 'V5c_10.-99', 'V5c_10.-77',\n",
              "       'V5c_10.0', 'V5c_10.1', 'V5d_1.-99', 'V5d_1.0', 'V5d_1.1',\n",
              "       'V5d_2.-99', 'V5d_2.0', 'V5d_2.1', 'V5d_3.-99', 'V5d_3.0',\n",
              "       'V5d_3.1', 'V5d_4.-99', 'V5d_4.0', 'V5d_4.1', 'V5d_5.-99',\n",
              "       'V5d_5.0', 'V5d_5.1', 'V5d_6.-99', 'V5d_6.0', 'V5d_6.1',\n",
              "       'V5d_7.-99', 'V5d_7.0', 'V5d_7.1', 'V5d_8.-99', 'V5d_8.0',\n",
              "       'V5d_9.-99', 'V5d_9.0', 'V5d_9.1', 'V5d_10.-99', 'V5d_10.0',\n",
              "       'V5d_10.1', 'V6_1.-99', 'V6_1.-77', 'V6_1.0', 'V6_1.1', 'V6_2.-99',\n",
              "       'V6_2.-77', 'V6_2.0', 'V6_2.1', 'V6_3.-99', 'V6_3.-77', 'V6_3.0',\n",
              "       'V6_3.1', 'V6_4.-99', 'V6_4.-77', 'V6_4.0', 'V6_4.1', 'V6_5.-99',\n",
              "       'V6_5.-77', 'V6_5.0', 'V6_5.1', 'V6_6.-99', 'V6_6.-77', 'V6_6.0',\n",
              "       'V6_6.1', 'V6_7.-99', 'V6_7.-77', 'V6_7.0', 'V6_7.1', 'V9.-99',\n",
              "       'V9.-77', 'V9.1', 'V9.2', 'V9.3', 'V9.4', 'V10_1.-99', 'V10_1.-77',\n",
              "       'V10_1.0', 'V10_1.1', 'V10_2.-99', 'V10_2.-77', 'V10_2.0',\n",
              "       'V10_2.1', 'V10_3.-99', 'V10_3.-77', 'V10_3.0', 'V10_3.1',\n",
              "       'V10_4.-99', 'V10_4.-77', 'V10_4.0', 'V10_4.1', 'V10_5.-99',\n",
              "       'V10_5.-77', 'V10_5.0', 'V10_5.1', 'V10_6.-99', 'V10_6.-77',\n",
              "       'V10_6.0', 'V10_6.1', 'V10_7.-99', 'V10_7.-77', 'V10_7.0',\n",
              "       'V10_7.1', 'V10_8.-99', 'V10_8.-77', 'V10_8.0', 'V10_8.1',\n",
              "       'V10_9.-99', 'V10_9.-77', 'V10_9.0', 'V10_9.1', 'V10_10.-99',\n",
              "       'V10_10.-77', 'V10_10.0', 'V10_10.1', 'V11.-99', 'V11.-77',\n",
              "       'V11.1', 'V11.2', 'V12.-99', 'V12.-77', 'V12.1', 'V12.2',\n",
              "       'V13.-99', 'V13.-77', 'V13.1', 'V13.2', 'V13.3', 'V13.4',\n",
              "       'V15.-99', 'V15.-77', 'V15.1', 'V15.2', 'V16.-99', 'V16.-77',\n",
              "       'V16.1', 'V16.2', 'B12_1.-99', 'B12_1.-77', 'B12_1.1', 'B12_1.2',\n",
              "       'B12_2.-99', 'B12_2.-77', 'B12_2.1', 'B12_2.2', 'B12_3.-99',\n",
              "       'B12_3.-77', 'B12_3.1', 'B12_3.2', 'B12_4.-99', 'B12_4.-77',\n",
              "       'B12_4.1', 'B12_4.2', 'B12_5.-99', 'B12_5.-77', 'B12_5.1',\n",
              "       'B12_5.2', 'B12_6.-99', 'B12_6.-77', 'B12_6.1', 'B12_6.2',\n",
              "       'B13_1.-99', 'B13_1.-77', 'B13_1.1', 'B13_1.2', 'B13_2.-99',\n",
              "       'B13_2.-77', 'B13_2.1', 'B13_2.2', 'B13_3.-99', 'B13_3.-77',\n",
              "       'B13_3.1', 'B13_3.2', 'B13_4.-99', 'B13_4.-77', 'B13_4.1',\n",
              "       'B13_4.2', 'B13_5.-99', 'B13_5.-77', 'B13_5.1', 'B13_5.2',\n",
              "       'B13_6.-99', 'B13_6.-77', 'B13_6.1', 'B13_6.2', 'B13_7.-99',\n",
              "       'B13_7.-77', 'B13_7.1', 'B13_7.2', 'B14_1.-99', 'B14_1.-77',\n",
              "       'B14_1.1', 'B14_1.2', 'B14_2.-99', 'B14_2.-77', 'B14_2.1',\n",
              "       'B14_2.2', 'B14_3.-99', 'B14_3.-77', 'B14_3.1', 'B14_3.2',\n",
              "       'B14_4.-99', 'B14_4.-77', 'B14_4.1', 'B14_4.2', 'B14_5.-99',\n",
              "       'B14_5.-77', 'B14_5.1', 'B14_5.2', 'C0_1.-99', 'C0_1.-77',\n",
              "       'C0_1.1', 'C0_1.2', 'C0_2.-99', 'C0_2.-77', 'C0_2.1', 'C0_2.2',\n",
              "       'C0_3.-99', 'C0_3.-77', 'C0_3.1', 'C0_3.2', 'C0_4.-99', 'C0_4.-77',\n",
              "       'C0_4.1', 'C0_4.2', 'C0_5.-99', 'C0_5.-77', 'C0_5.1', 'C0_5.2',\n",
              "       'C0_6.-99', 'C0_6.-77', 'C0_6.1', 'C0_6.2', 'C1_m.-99', 'C1_m.-77',\n",
              "       'C1_m.1', 'C1_m.2', 'C2.-99', 'C2.-77', 'C2.1', 'C2.2', 'C2.3',\n",
              "       'C2.4', 'C7.-99', 'C7.-77', 'C7.1', 'C7.2', 'C7.3', 'C7.4',\n",
              "       'C8.-99', 'C8.-77', 'C8.1', 'C8.2', 'C3.-99', 'C3.-77', 'C3.1',\n",
              "       'C3.2', 'C5.-99', 'C5.-77', 'C5.1', 'C5.2', 'C5.3', 'C5.4', 'C5.5',\n",
              "       'C5.6', 'C6.-99', 'C6.-77', 'C6.1', 'C6.2', 'C6.3', 'C6.4',\n",
              "       'C14.-99', 'C14.-77', 'C14.1', 'C14.2', 'C14.3', 'C14.4',\n",
              "       'C9a.-99', 'C9a.-77', 'C9a.1', 'C9a.2', 'C9a.3', 'C12.-99',\n",
              "       'C12.-77', 'C12.1', 'C12.2', 'C12.3', 'C13_1.-99', 'C13_1.-77',\n",
              "       'C13_1.1', 'C13_1.2', 'C13_2.-99', 'C13_2.-77', 'C13_2.1',\n",
              "       'C13_2.2', 'C13_3.-99', 'C13_3.-77', 'C13_3.1', 'C13_3.2',\n",
              "       'C13_4.-99', 'C13_4.-77', 'C13_4.1', 'C13_4.2', 'C13_5.-99',\n",
              "       'C13_5.-77', 'C13_5.1', 'C13_5.2', 'C13_6.-99', 'C13_6.-77',\n",
              "       'C13_6.1', 'C13_6.2', 'D1.-99', 'D1.-77', 'D1.1', 'D1.2', 'D1.3',\n",
              "       'D1.4', 'D1.5', 'D2.-99', 'D2.-77', 'D2.1', 'D2.2', 'D2.3', 'D2.4',\n",
              "       'D2.5', 'D3.-99', 'D3.-77', 'D3.1', 'D3.2', 'D3.3', 'D3.4',\n",
              "       'D4.-99', 'D4.-77', 'D4.1', 'D4.2', 'D4.3', 'D4.4', 'D5.-99',\n",
              "       'D5.-77', 'D5.1', 'D5.2', 'D5.3', 'D5.4', 'D6_1.-99', 'D6_1.-77',\n",
              "       'D6_1.1', 'D6_1.2', 'D6_2.-99', 'D6_2.-77', 'D6_2.1', 'D6_2.2',\n",
              "       'D6_3.-99', 'D6_3.-77', 'D6_3.1', 'D6_3.2', 'D7.-99', 'D7.-77',\n",
              "       'D7.1', 'D7.2', 'D8.-99', 'D8.-77', 'D8.1', 'D8.2', 'D9.-99',\n",
              "       'D9.-77', 'D9.1', 'D9.2', 'D9.3', 'D9.4', 'D9.5', 'D9.6', 'D9.7',\n",
              "       'D10.-99', 'D10.-77', 'D10.1', 'D10.2', 'D10.3', 'D10.4', 'D10.5',\n",
              "       'D10.6', 'D10.7', 'D10.8', 'D10.9', 'D10.10', 'D10.11', 'D10.12',\n",
              "       'D10.13', 'D10.14', 'D10.15', 'E3.-99', 'E3.-77', 'E3.1', 'E3.2',\n",
              "       'E3.3', 'E3.4', 'E4.-99', 'E4.-77', 'E4.1', 'E4.2', 'E4.3', 'E4.4',\n",
              "       'E4.5', 'E4.6', 'E4.7', 'E2.-99', 'E2.-77', 'E2.1', 'E2.2', 'E2.3',\n",
              "       'E7.-99', 'E7.-77', 'E7.1', 'E7.2', 'E7.3', 'E7.4', 'E7.5'],\n",
              "      dtype=object)"
            ]
          },
          "metadata": {
            "tags": []
          },
          "execution_count": 4
        }
      ]
    },
    {
      "cell_type": "code",
      "metadata": {
        "colab": {
          "base_uri": "https://localhost:8080/",
          "height": 362
        },
        "id": "xG0Zd2xXTTRm",
        "outputId": "aa24dae1-8c0d-41ac-accc-4a6bd468b87c"
      },
      "source": [
        "df.head()"
      ],
      "execution_count": null,
      "outputs": [
        {
          "output_type": "execute_result",
          "data": {
            "text/html": [
              "<div>\n",
              "<style scoped>\n",
              "    .dataframe tbody tr th:only-of-type {\n",
              "        vertical-align: middle;\n",
              "    }\n",
              "\n",
              "    .dataframe tbody tr th {\n",
              "        vertical-align: top;\n",
              "    }\n",
              "\n",
              "    .dataframe thead th {\n",
              "        text-align: right;\n",
              "    }\n",
              "</style>\n",
              "<table border=\"1\" class=\"dataframe\">\n",
              "  <thead>\n",
              "    <tr style=\"text-align: right;\">\n",
              "      <th></th>\n",
              "      <th>survey_region</th>\n",
              "      <th>survey_version</th>\n",
              "      <th>weight</th>\n",
              "      <th>Finished</th>\n",
              "      <th>RecordedDate</th>\n",
              "      <th>intro1</th>\n",
              "      <th>intro2</th>\n",
              "      <th>A1</th>\n",
              "      <th>A2_2_1</th>\n",
              "      <th>A2_2_2</th>\n",
              "      <th>B2</th>\n",
              "      <th>B4</th>\n",
              "      <th>V4_2</th>\n",
              "      <th>C9</th>\n",
              "      <th>E6</th>\n",
              "      <th>E5</th>\n",
              "      <th>Q_Language</th>\n",
              "      <th>Q_TotalDuration</th>\n",
              "      <th>GID_0</th>\n",
              "      <th>GID_1</th>\n",
              "      <th>ISO_3</th>\n",
              "      <th>NAME_0</th>\n",
              "      <th>NAME_1</th>\n",
              "      <th>country_agg</th>\n",
              "      <th>country_region_numeric</th>\n",
              "      <th>region_agg</th>\n",
              "      <th>X1w_0unw</th>\n",
              "      <th>ISO2</th>\n",
              "      <th>date_from_file</th>\n",
              "      <th>date</th>\n",
              "      <th>Unnamed..0</th>\n",
              "      <th>age</th>\n",
              "      <th>B1_1.-77</th>\n",
              "      <th>B1_1.1</th>\n",
              "      <th>B1_1.2</th>\n",
              "      <th>B1_2.-77</th>\n",
              "      <th>B1_2.1</th>\n",
              "      <th>B1_2.2</th>\n",
              "      <th>B1_3.-77</th>\n",
              "      <th>B1_3.1</th>\n",
              "      <th>...</th>\n",
              "      <th>D10.3</th>\n",
              "      <th>D10.4</th>\n",
              "      <th>D10.5</th>\n",
              "      <th>D10.6</th>\n",
              "      <th>D10.7</th>\n",
              "      <th>D10.8</th>\n",
              "      <th>D10.9</th>\n",
              "      <th>D10.10</th>\n",
              "      <th>D10.11</th>\n",
              "      <th>D10.12</th>\n",
              "      <th>D10.13</th>\n",
              "      <th>D10.14</th>\n",
              "      <th>D10.15</th>\n",
              "      <th>E3.-99</th>\n",
              "      <th>E3.-77</th>\n",
              "      <th>E3.1</th>\n",
              "      <th>E3.2</th>\n",
              "      <th>E3.3</th>\n",
              "      <th>E3.4</th>\n",
              "      <th>E4.-99</th>\n",
              "      <th>E4.-77</th>\n",
              "      <th>E4.1</th>\n",
              "      <th>E4.2</th>\n",
              "      <th>E4.3</th>\n",
              "      <th>E4.4</th>\n",
              "      <th>E4.5</th>\n",
              "      <th>E4.6</th>\n",
              "      <th>E4.7</th>\n",
              "      <th>E2.-99</th>\n",
              "      <th>E2.-77</th>\n",
              "      <th>E2.1</th>\n",
              "      <th>E2.2</th>\n",
              "      <th>E2.3</th>\n",
              "      <th>E7.-99</th>\n",
              "      <th>E7.-77</th>\n",
              "      <th>E7.1</th>\n",
              "      <th>E7.2</th>\n",
              "      <th>E7.3</th>\n",
              "      <th>E7.4</th>\n",
              "      <th>E7.5</th>\n",
              "    </tr>\n",
              "  </thead>\n",
              "  <tbody>\n",
              "    <tr>\n",
              "      <th>0</th>\n",
              "      <td>EU</td>\n",
              "      <td>10</td>\n",
              "      <td>5933.740672</td>\n",
              "      <td>0</td>\n",
              "      <td>2021-03-02T05:11:44Z</td>\n",
              "      <td>1</td>\n",
              "      <td>1</td>\n",
              "      <td>1</td>\n",
              "      <td>1179</td>\n",
              "      <td>1181</td>\n",
              "      <td>-99.0</td>\n",
              "      <td>-99</td>\n",
              "      <td>NaN</td>\n",
              "      <td>NaN</td>\n",
              "      <td>-99.0</td>\n",
              "      <td>-99.0</td>\n",
              "      <td>EL</td>\n",
              "      <td>597</td>\n",
              "      <td>GRC</td>\n",
              "      <td>GRC.6_1</td>\n",
              "      <td>GRC</td>\n",
              "      <td>Greece</td>\n",
              "      <td>Macedonia and Thrace</td>\n",
              "      <td>Greece</td>\n",
              "      <td>1181</td>\n",
              "      <td>Anatoliki Makedonia Thraki</td>\n",
              "      <td>1</td>\n",
              "      <td>GR</td>\n",
              "      <td>2021-03-02</td>\n",
              "      <td>2021-03-02</td>\n",
              "      <td>NaN</td>\n",
              "      <td>-99</td>\n",
              "      <td>0</td>\n",
              "      <td>0</td>\n",
              "      <td>1</td>\n",
              "      <td>0</td>\n",
              "      <td>0</td>\n",
              "      <td>1</td>\n",
              "      <td>0</td>\n",
              "      <td>0</td>\n",
              "      <td>...</td>\n",
              "      <td>0</td>\n",
              "      <td>0</td>\n",
              "      <td>0</td>\n",
              "      <td>0</td>\n",
              "      <td>0</td>\n",
              "      <td>0</td>\n",
              "      <td>0</td>\n",
              "      <td>0</td>\n",
              "      <td>0</td>\n",
              "      <td>0</td>\n",
              "      <td>0</td>\n",
              "      <td>0</td>\n",
              "      <td>0</td>\n",
              "      <td>1</td>\n",
              "      <td>0</td>\n",
              "      <td>0</td>\n",
              "      <td>0</td>\n",
              "      <td>0</td>\n",
              "      <td>0</td>\n",
              "      <td>1</td>\n",
              "      <td>0</td>\n",
              "      <td>0</td>\n",
              "      <td>0</td>\n",
              "      <td>0</td>\n",
              "      <td>0</td>\n",
              "      <td>0</td>\n",
              "      <td>0</td>\n",
              "      <td>0</td>\n",
              "      <td>1</td>\n",
              "      <td>0</td>\n",
              "      <td>0</td>\n",
              "      <td>0</td>\n",
              "      <td>0</td>\n",
              "      <td>1</td>\n",
              "      <td>0</td>\n",
              "      <td>0</td>\n",
              "      <td>0</td>\n",
              "      <td>0</td>\n",
              "      <td>0</td>\n",
              "      <td>0</td>\n",
              "    </tr>\n",
              "    <tr>\n",
              "      <th>1</th>\n",
              "      <td>EU</td>\n",
              "      <td>10</td>\n",
              "      <td>12506.015409</td>\n",
              "      <td>0</td>\n",
              "      <td>2021-03-02T08:52:06Z</td>\n",
              "      <td>1</td>\n",
              "      <td>1</td>\n",
              "      <td>1</td>\n",
              "      <td>1179</td>\n",
              "      <td>1181</td>\n",
              "      <td>-99.0</td>\n",
              "      <td>-99</td>\n",
              "      <td>NaN</td>\n",
              "      <td>NaN</td>\n",
              "      <td>-99.0</td>\n",
              "      <td>-99.0</td>\n",
              "      <td>EL</td>\n",
              "      <td>698</td>\n",
              "      <td>GRC</td>\n",
              "      <td>GRC.6_1</td>\n",
              "      <td>GRC</td>\n",
              "      <td>Greece</td>\n",
              "      <td>Macedonia and Thrace</td>\n",
              "      <td>Greece</td>\n",
              "      <td>1181</td>\n",
              "      <td>Anatoliki Makedonia Thraki</td>\n",
              "      <td>1</td>\n",
              "      <td>GR</td>\n",
              "      <td>2021-03-02</td>\n",
              "      <td>2021-03-02</td>\n",
              "      <td>NaN</td>\n",
              "      <td>-99</td>\n",
              "      <td>0</td>\n",
              "      <td>0</td>\n",
              "      <td>1</td>\n",
              "      <td>0</td>\n",
              "      <td>0</td>\n",
              "      <td>1</td>\n",
              "      <td>0</td>\n",
              "      <td>0</td>\n",
              "      <td>...</td>\n",
              "      <td>0</td>\n",
              "      <td>0</td>\n",
              "      <td>0</td>\n",
              "      <td>0</td>\n",
              "      <td>0</td>\n",
              "      <td>0</td>\n",
              "      <td>0</td>\n",
              "      <td>0</td>\n",
              "      <td>0</td>\n",
              "      <td>0</td>\n",
              "      <td>0</td>\n",
              "      <td>0</td>\n",
              "      <td>0</td>\n",
              "      <td>1</td>\n",
              "      <td>0</td>\n",
              "      <td>0</td>\n",
              "      <td>0</td>\n",
              "      <td>0</td>\n",
              "      <td>0</td>\n",
              "      <td>1</td>\n",
              "      <td>0</td>\n",
              "      <td>0</td>\n",
              "      <td>0</td>\n",
              "      <td>0</td>\n",
              "      <td>0</td>\n",
              "      <td>0</td>\n",
              "      <td>0</td>\n",
              "      <td>0</td>\n",
              "      <td>1</td>\n",
              "      <td>0</td>\n",
              "      <td>0</td>\n",
              "      <td>0</td>\n",
              "      <td>0</td>\n",
              "      <td>1</td>\n",
              "      <td>0</td>\n",
              "      <td>0</td>\n",
              "      <td>0</td>\n",
              "      <td>0</td>\n",
              "      <td>0</td>\n",
              "      <td>0</td>\n",
              "    </tr>\n",
              "    <tr>\n",
              "      <th>2</th>\n",
              "      <td>EU</td>\n",
              "      <td>10</td>\n",
              "      <td>5296.731086</td>\n",
              "      <td>1</td>\n",
              "      <td>2021-03-02T00:23:37Z</td>\n",
              "      <td>1</td>\n",
              "      <td>1</td>\n",
              "      <td>1</td>\n",
              "      <td>1179</td>\n",
              "      <td>1182</td>\n",
              "      <td>5.0</td>\n",
              "      <td>-99</td>\n",
              "      <td>NaN</td>\n",
              "      <td>NaN</td>\n",
              "      <td>15.0</td>\n",
              "      <td>1.0</td>\n",
              "      <td>EL</td>\n",
              "      <td>1017</td>\n",
              "      <td>GRC</td>\n",
              "      <td>GRC.3_1</td>\n",
              "      <td>GRC</td>\n",
              "      <td>Greece</td>\n",
              "      <td>Attica</td>\n",
              "      <td>Greece</td>\n",
              "      <td>1182</td>\n",
              "      <td>Attiki</td>\n",
              "      <td>1</td>\n",
              "      <td>GR</td>\n",
              "      <td>2021-03-02</td>\n",
              "      <td>2021-03-02</td>\n",
              "      <td>NaN</td>\n",
              "      <td>5</td>\n",
              "      <td>1</td>\n",
              "      <td>0</td>\n",
              "      <td>0</td>\n",
              "      <td>0</td>\n",
              "      <td>1</td>\n",
              "      <td>0</td>\n",
              "      <td>0</td>\n",
              "      <td>1</td>\n",
              "      <td>...</td>\n",
              "      <td>0</td>\n",
              "      <td>0</td>\n",
              "      <td>1</td>\n",
              "      <td>0</td>\n",
              "      <td>0</td>\n",
              "      <td>0</td>\n",
              "      <td>0</td>\n",
              "      <td>0</td>\n",
              "      <td>0</td>\n",
              "      <td>0</td>\n",
              "      <td>0</td>\n",
              "      <td>0</td>\n",
              "      <td>0</td>\n",
              "      <td>0</td>\n",
              "      <td>0</td>\n",
              "      <td>1</td>\n",
              "      <td>0</td>\n",
              "      <td>0</td>\n",
              "      <td>0</td>\n",
              "      <td>0</td>\n",
              "      <td>0</td>\n",
              "      <td>0</td>\n",
              "      <td>0</td>\n",
              "      <td>0</td>\n",
              "      <td>0</td>\n",
              "      <td>1</td>\n",
              "      <td>0</td>\n",
              "      <td>0</td>\n",
              "      <td>0</td>\n",
              "      <td>0</td>\n",
              "      <td>1</td>\n",
              "      <td>0</td>\n",
              "      <td>0</td>\n",
              "      <td>0</td>\n",
              "      <td>0</td>\n",
              "      <td>0</td>\n",
              "      <td>0</td>\n",
              "      <td>1</td>\n",
              "      <td>0</td>\n",
              "      <td>0</td>\n",
              "    </tr>\n",
              "    <tr>\n",
              "      <th>3</th>\n",
              "      <td>EU</td>\n",
              "      <td>10</td>\n",
              "      <td>12108.720384</td>\n",
              "      <td>1</td>\n",
              "      <td>2021-03-02T00:22:43Z</td>\n",
              "      <td>1</td>\n",
              "      <td>1</td>\n",
              "      <td>1</td>\n",
              "      <td>1179</td>\n",
              "      <td>1182</td>\n",
              "      <td>-99.0</td>\n",
              "      <td>-99</td>\n",
              "      <td>NaN</td>\n",
              "      <td>NaN</td>\n",
              "      <td>16.0</td>\n",
              "      <td>1.0</td>\n",
              "      <td>EN-GB</td>\n",
              "      <td>845</td>\n",
              "      <td>GRC</td>\n",
              "      <td>GRC.3_1</td>\n",
              "      <td>GRC</td>\n",
              "      <td>Greece</td>\n",
              "      <td>Attica</td>\n",
              "      <td>Greece</td>\n",
              "      <td>1182</td>\n",
              "      <td>Attiki</td>\n",
              "      <td>1</td>\n",
              "      <td>GR</td>\n",
              "      <td>2021-03-02</td>\n",
              "      <td>2021-03-02</td>\n",
              "      <td>NaN</td>\n",
              "      <td>7</td>\n",
              "      <td>0</td>\n",
              "      <td>0</td>\n",
              "      <td>1</td>\n",
              "      <td>0</td>\n",
              "      <td>0</td>\n",
              "      <td>1</td>\n",
              "      <td>0</td>\n",
              "      <td>0</td>\n",
              "      <td>...</td>\n",
              "      <td>0</td>\n",
              "      <td>0</td>\n",
              "      <td>0</td>\n",
              "      <td>0</td>\n",
              "      <td>0</td>\n",
              "      <td>0</td>\n",
              "      <td>0</td>\n",
              "      <td>0</td>\n",
              "      <td>0</td>\n",
              "      <td>0</td>\n",
              "      <td>0</td>\n",
              "      <td>0</td>\n",
              "      <td>0</td>\n",
              "      <td>0</td>\n",
              "      <td>0</td>\n",
              "      <td>1</td>\n",
              "      <td>0</td>\n",
              "      <td>0</td>\n",
              "      <td>0</td>\n",
              "      <td>0</td>\n",
              "      <td>0</td>\n",
              "      <td>0</td>\n",
              "      <td>0</td>\n",
              "      <td>0</td>\n",
              "      <td>0</td>\n",
              "      <td>0</td>\n",
              "      <td>0</td>\n",
              "      <td>1</td>\n",
              "      <td>0</td>\n",
              "      <td>0</td>\n",
              "      <td>1</td>\n",
              "      <td>0</td>\n",
              "      <td>0</td>\n",
              "      <td>0</td>\n",
              "      <td>0</td>\n",
              "      <td>1</td>\n",
              "      <td>0</td>\n",
              "      <td>0</td>\n",
              "      <td>0</td>\n",
              "      <td>0</td>\n",
              "    </tr>\n",
              "    <tr>\n",
              "      <th>4</th>\n",
              "      <td>EU</td>\n",
              "      <td>10</td>\n",
              "      <td>4943.455778</td>\n",
              "      <td>1</td>\n",
              "      <td>2021-03-02T00:26:15Z</td>\n",
              "      <td>1</td>\n",
              "      <td>1</td>\n",
              "      <td>1</td>\n",
              "      <td>1179</td>\n",
              "      <td>1182</td>\n",
              "      <td>-99.0</td>\n",
              "      <td>-99</td>\n",
              "      <td>NaN</td>\n",
              "      <td>NaN</td>\n",
              "      <td>3.0</td>\n",
              "      <td>3.0</td>\n",
              "      <td>EL</td>\n",
              "      <td>957</td>\n",
              "      <td>GRC</td>\n",
              "      <td>GRC.3_1</td>\n",
              "      <td>GRC</td>\n",
              "      <td>Greece</td>\n",
              "      <td>Attica</td>\n",
              "      <td>Greece</td>\n",
              "      <td>1182</td>\n",
              "      <td>Attiki</td>\n",
              "      <td>1</td>\n",
              "      <td>GR</td>\n",
              "      <td>2021-03-02</td>\n",
              "      <td>2021-03-02</td>\n",
              "      <td>NaN</td>\n",
              "      <td>5</td>\n",
              "      <td>0</td>\n",
              "      <td>0</td>\n",
              "      <td>1</td>\n",
              "      <td>0</td>\n",
              "      <td>0</td>\n",
              "      <td>1</td>\n",
              "      <td>0</td>\n",
              "      <td>0</td>\n",
              "      <td>...</td>\n",
              "      <td>0</td>\n",
              "      <td>0</td>\n",
              "      <td>0</td>\n",
              "      <td>0</td>\n",
              "      <td>0</td>\n",
              "      <td>0</td>\n",
              "      <td>0</td>\n",
              "      <td>0</td>\n",
              "      <td>0</td>\n",
              "      <td>0</td>\n",
              "      <td>0</td>\n",
              "      <td>0</td>\n",
              "      <td>0</td>\n",
              "      <td>0</td>\n",
              "      <td>0</td>\n",
              "      <td>0</td>\n",
              "      <td>1</td>\n",
              "      <td>0</td>\n",
              "      <td>0</td>\n",
              "      <td>0</td>\n",
              "      <td>0</td>\n",
              "      <td>0</td>\n",
              "      <td>0</td>\n",
              "      <td>0</td>\n",
              "      <td>0</td>\n",
              "      <td>1</td>\n",
              "      <td>0</td>\n",
              "      <td>0</td>\n",
              "      <td>0</td>\n",
              "      <td>0</td>\n",
              "      <td>1</td>\n",
              "      <td>0</td>\n",
              "      <td>0</td>\n",
              "      <td>0</td>\n",
              "      <td>0</td>\n",
              "      <td>0</td>\n",
              "      <td>1</td>\n",
              "      <td>0</td>\n",
              "      <td>0</td>\n",
              "      <td>0</td>\n",
              "    </tr>\n",
              "  </tbody>\n",
              "</table>\n",
              "<p>5 rows × 735 columns</p>\n",
              "</div>"
            ],
            "text/plain": [
              "  survey_region  survey_version        weight  Finished  ... E7.2  E7.3  E7.4  E7.5\n",
              "0            EU              10   5933.740672         0  ...    0     0     0     0\n",
              "1            EU              10  12506.015409         0  ...    0     0     0     0\n",
              "2            EU              10   5296.731086         1  ...    0     1     0     0\n",
              "3            EU              10  12108.720384         1  ...    0     0     0     0\n",
              "4            EU              10   4943.455778         1  ...    1     0     0     0\n",
              "\n",
              "[5 rows x 735 columns]"
            ]
          },
          "metadata": {
            "tags": []
          },
          "execution_count": 4
        }
      ]
    },
    {
      "cell_type": "code",
      "metadata": {
        "colab": {
          "base_uri": "https://localhost:8080/",
          "height": 328
        },
        "id": "E7oebsgtTUgo",
        "outputId": "cf19bb91-d2a7-4e27-a89d-c6af0e24f4ac"
      },
      "source": [
        "df.tail()"
      ],
      "execution_count": null,
      "outputs": [
        {
          "output_type": "execute_result",
          "data": {
            "text/html": [
              "<div>\n",
              "<style scoped>\n",
              "    .dataframe tbody tr th:only-of-type {\n",
              "        vertical-align: middle;\n",
              "    }\n",
              "\n",
              "    .dataframe tbody tr th {\n",
              "        vertical-align: top;\n",
              "    }\n",
              "\n",
              "    .dataframe thead th {\n",
              "        text-align: right;\n",
              "    }\n",
              "</style>\n",
              "<table border=\"1\" class=\"dataframe\">\n",
              "  <thead>\n",
              "    <tr style=\"text-align: right;\">\n",
              "      <th></th>\n",
              "      <th>survey_region</th>\n",
              "      <th>survey_version</th>\n",
              "      <th>weight</th>\n",
              "      <th>Finished</th>\n",
              "      <th>RecordedDate</th>\n",
              "      <th>intro1</th>\n",
              "      <th>intro2</th>\n",
              "      <th>A1</th>\n",
              "      <th>A2_2_1</th>\n",
              "      <th>A2_2_2</th>\n",
              "      <th>B2</th>\n",
              "      <th>B4</th>\n",
              "      <th>V4_2</th>\n",
              "      <th>C9</th>\n",
              "      <th>E6</th>\n",
              "      <th>E5</th>\n",
              "      <th>Q_Language</th>\n",
              "      <th>Q_TotalDuration</th>\n",
              "      <th>GID_0</th>\n",
              "      <th>GID_1</th>\n",
              "      <th>ISO_3</th>\n",
              "      <th>NAME_0</th>\n",
              "      <th>NAME_1</th>\n",
              "      <th>country_agg</th>\n",
              "      <th>country_region_numeric</th>\n",
              "      <th>region_agg</th>\n",
              "      <th>X1w_0unw</th>\n",
              "      <th>ISO2</th>\n",
              "      <th>date_from_file</th>\n",
              "      <th>date</th>\n",
              "      <th>Unnamed..0</th>\n",
              "      <th>age</th>\n",
              "      <th>B1_1.-77</th>\n",
              "      <th>B1_1.1</th>\n",
              "      <th>B1_1.2</th>\n",
              "      <th>B1_2.-77</th>\n",
              "      <th>B1_2.1</th>\n",
              "      <th>B1_2.2</th>\n",
              "      <th>B1_3.-77</th>\n",
              "      <th>B1_3.1</th>\n",
              "      <th>...</th>\n",
              "      <th>D10.3</th>\n",
              "      <th>D10.4</th>\n",
              "      <th>D10.5</th>\n",
              "      <th>D10.6</th>\n",
              "      <th>D10.7</th>\n",
              "      <th>D10.8</th>\n",
              "      <th>D10.9</th>\n",
              "      <th>D10.10</th>\n",
              "      <th>D10.11</th>\n",
              "      <th>D10.12</th>\n",
              "      <th>D10.13</th>\n",
              "      <th>D10.14</th>\n",
              "      <th>D10.15</th>\n",
              "      <th>E3.-99</th>\n",
              "      <th>E3.-77</th>\n",
              "      <th>E3.1</th>\n",
              "      <th>E3.2</th>\n",
              "      <th>E3.3</th>\n",
              "      <th>E3.4</th>\n",
              "      <th>E4.-99</th>\n",
              "      <th>E4.-77</th>\n",
              "      <th>E4.1</th>\n",
              "      <th>E4.2</th>\n",
              "      <th>E4.3</th>\n",
              "      <th>E4.4</th>\n",
              "      <th>E4.5</th>\n",
              "      <th>E4.6</th>\n",
              "      <th>E4.7</th>\n",
              "      <th>E2.-99</th>\n",
              "      <th>E2.-77</th>\n",
              "      <th>E2.1</th>\n",
              "      <th>E2.2</th>\n",
              "      <th>E2.3</th>\n",
              "      <th>E7.-99</th>\n",
              "      <th>E7.-77</th>\n",
              "      <th>E7.1</th>\n",
              "      <th>E7.2</th>\n",
              "      <th>E7.3</th>\n",
              "      <th>E7.4</th>\n",
              "      <th>E7.5</th>\n",
              "    </tr>\n",
              "  </thead>\n",
              "  <tbody>\n",
              "    <tr>\n",
              "      <th>17709</th>\n",
              "      <td>EU</td>\n",
              "      <td>10</td>\n",
              "      <td>18401.936658</td>\n",
              "      <td>1</td>\n",
              "      <td>2021-05-17T00:25:44Z</td>\n",
              "      <td>1</td>\n",
              "      <td>1</td>\n",
              "      <td>1</td>\n",
              "      <td>1179</td>\n",
              "      <td>1193</td>\n",
              "      <td>-99.0</td>\n",
              "      <td>-99</td>\n",
              "      <td>NaN</td>\n",
              "      <td>NaN</td>\n",
              "      <td>4.0</td>\n",
              "      <td>3.0</td>\n",
              "      <td>EL</td>\n",
              "      <td>602</td>\n",
              "      <td>GRC</td>\n",
              "      <td>GRC.1_1</td>\n",
              "      <td>GRC</td>\n",
              "      <td>Greece</td>\n",
              "      <td>Aegean</td>\n",
              "      <td>Greece</td>\n",
              "      <td>1193</td>\n",
              "      <td>Voreio Aigaio</td>\n",
              "      <td>1</td>\n",
              "      <td>GR</td>\n",
              "      <td>2021-05-17</td>\n",
              "      <td>2021-05-17</td>\n",
              "      <td>NaN</td>\n",
              "      <td>2</td>\n",
              "      <td>0</td>\n",
              "      <td>0</td>\n",
              "      <td>1</td>\n",
              "      <td>0</td>\n",
              "      <td>0</td>\n",
              "      <td>1</td>\n",
              "      <td>0</td>\n",
              "      <td>0</td>\n",
              "      <td>...</td>\n",
              "      <td>0</td>\n",
              "      <td>0</td>\n",
              "      <td>0</td>\n",
              "      <td>0</td>\n",
              "      <td>0</td>\n",
              "      <td>0</td>\n",
              "      <td>0</td>\n",
              "      <td>0</td>\n",
              "      <td>0</td>\n",
              "      <td>0</td>\n",
              "      <td>1</td>\n",
              "      <td>0</td>\n",
              "      <td>0</td>\n",
              "      <td>0</td>\n",
              "      <td>0</td>\n",
              "      <td>0</td>\n",
              "      <td>1</td>\n",
              "      <td>0</td>\n",
              "      <td>0</td>\n",
              "      <td>0</td>\n",
              "      <td>0</td>\n",
              "      <td>0</td>\n",
              "      <td>1</td>\n",
              "      <td>0</td>\n",
              "      <td>0</td>\n",
              "      <td>0</td>\n",
              "      <td>0</td>\n",
              "      <td>0</td>\n",
              "      <td>0</td>\n",
              "      <td>0</td>\n",
              "      <td>0</td>\n",
              "      <td>0</td>\n",
              "      <td>1</td>\n",
              "      <td>0</td>\n",
              "      <td>0</td>\n",
              "      <td>0</td>\n",
              "      <td>1</td>\n",
              "      <td>0</td>\n",
              "      <td>0</td>\n",
              "      <td>0</td>\n",
              "    </tr>\n",
              "    <tr>\n",
              "      <th>17710</th>\n",
              "      <td>EU</td>\n",
              "      <td>10</td>\n",
              "      <td>6443.086421</td>\n",
              "      <td>1</td>\n",
              "      <td>2021-05-17T08:43:23Z</td>\n",
              "      <td>1</td>\n",
              "      <td>1</td>\n",
              "      <td>1</td>\n",
              "      <td>1179</td>\n",
              "      <td>1193</td>\n",
              "      <td>-99.0</td>\n",
              "      <td>-99</td>\n",
              "      <td>NaN</td>\n",
              "      <td>NaN</td>\n",
              "      <td>18.0</td>\n",
              "      <td>3.0</td>\n",
              "      <td>EN</td>\n",
              "      <td>434</td>\n",
              "      <td>GRC</td>\n",
              "      <td>GRC.1_1</td>\n",
              "      <td>GRC</td>\n",
              "      <td>Greece</td>\n",
              "      <td>Aegean</td>\n",
              "      <td>Greece</td>\n",
              "      <td>1193</td>\n",
              "      <td>Voreio Aigaio</td>\n",
              "      <td>1</td>\n",
              "      <td>GR</td>\n",
              "      <td>2021-05-17</td>\n",
              "      <td>2021-05-17</td>\n",
              "      <td>NaN</td>\n",
              "      <td>1</td>\n",
              "      <td>0</td>\n",
              "      <td>0</td>\n",
              "      <td>1</td>\n",
              "      <td>0</td>\n",
              "      <td>0</td>\n",
              "      <td>1</td>\n",
              "      <td>0</td>\n",
              "      <td>0</td>\n",
              "      <td>...</td>\n",
              "      <td>0</td>\n",
              "      <td>0</td>\n",
              "      <td>0</td>\n",
              "      <td>0</td>\n",
              "      <td>0</td>\n",
              "      <td>0</td>\n",
              "      <td>0</td>\n",
              "      <td>0</td>\n",
              "      <td>1</td>\n",
              "      <td>0</td>\n",
              "      <td>0</td>\n",
              "      <td>0</td>\n",
              "      <td>0</td>\n",
              "      <td>0</td>\n",
              "      <td>0</td>\n",
              "      <td>1</td>\n",
              "      <td>0</td>\n",
              "      <td>0</td>\n",
              "      <td>0</td>\n",
              "      <td>0</td>\n",
              "      <td>0</td>\n",
              "      <td>1</td>\n",
              "      <td>0</td>\n",
              "      <td>0</td>\n",
              "      <td>0</td>\n",
              "      <td>0</td>\n",
              "      <td>0</td>\n",
              "      <td>0</td>\n",
              "      <td>0</td>\n",
              "      <td>0</td>\n",
              "      <td>1</td>\n",
              "      <td>0</td>\n",
              "      <td>0</td>\n",
              "      <td>0</td>\n",
              "      <td>0</td>\n",
              "      <td>0</td>\n",
              "      <td>1</td>\n",
              "      <td>0</td>\n",
              "      <td>0</td>\n",
              "      <td>0</td>\n",
              "    </tr>\n",
              "    <tr>\n",
              "      <th>17711</th>\n",
              "      <td>EU</td>\n",
              "      <td>10</td>\n",
              "      <td>7592.378865</td>\n",
              "      <td>1</td>\n",
              "      <td>2021-05-17T00:13:43Z</td>\n",
              "      <td>1</td>\n",
              "      <td>1</td>\n",
              "      <td>1</td>\n",
              "      <td>1179</td>\n",
              "      <td>1193</td>\n",
              "      <td>-99.0</td>\n",
              "      <td>-99</td>\n",
              "      <td>NaN</td>\n",
              "      <td>NaN</td>\n",
              "      <td>15.0</td>\n",
              "      <td>0.0</td>\n",
              "      <td>EL</td>\n",
              "      <td>430</td>\n",
              "      <td>GRC</td>\n",
              "      <td>GRC.1_1</td>\n",
              "      <td>GRC</td>\n",
              "      <td>Greece</td>\n",
              "      <td>Aegean</td>\n",
              "      <td>Greece</td>\n",
              "      <td>1193</td>\n",
              "      <td>Voreio Aigaio</td>\n",
              "      <td>1</td>\n",
              "      <td>GR</td>\n",
              "      <td>2021-05-17</td>\n",
              "      <td>2021-05-17</td>\n",
              "      <td>NaN</td>\n",
              "      <td>4</td>\n",
              "      <td>0</td>\n",
              "      <td>0</td>\n",
              "      <td>1</td>\n",
              "      <td>0</td>\n",
              "      <td>0</td>\n",
              "      <td>1</td>\n",
              "      <td>0</td>\n",
              "      <td>0</td>\n",
              "      <td>...</td>\n",
              "      <td>0</td>\n",
              "      <td>0</td>\n",
              "      <td>0</td>\n",
              "      <td>0</td>\n",
              "      <td>0</td>\n",
              "      <td>0</td>\n",
              "      <td>0</td>\n",
              "      <td>0</td>\n",
              "      <td>0</td>\n",
              "      <td>1</td>\n",
              "      <td>0</td>\n",
              "      <td>0</td>\n",
              "      <td>0</td>\n",
              "      <td>0</td>\n",
              "      <td>0</td>\n",
              "      <td>1</td>\n",
              "      <td>0</td>\n",
              "      <td>0</td>\n",
              "      <td>0</td>\n",
              "      <td>0</td>\n",
              "      <td>0</td>\n",
              "      <td>0</td>\n",
              "      <td>0</td>\n",
              "      <td>0</td>\n",
              "      <td>1</td>\n",
              "      <td>0</td>\n",
              "      <td>0</td>\n",
              "      <td>0</td>\n",
              "      <td>0</td>\n",
              "      <td>0</td>\n",
              "      <td>0</td>\n",
              "      <td>0</td>\n",
              "      <td>1</td>\n",
              "      <td>0</td>\n",
              "      <td>0</td>\n",
              "      <td>0</td>\n",
              "      <td>1</td>\n",
              "      <td>0</td>\n",
              "      <td>0</td>\n",
              "      <td>0</td>\n",
              "    </tr>\n",
              "    <tr>\n",
              "      <th>17712</th>\n",
              "      <td>EU</td>\n",
              "      <td>10</td>\n",
              "      <td>7017.825984</td>\n",
              "      <td>1</td>\n",
              "      <td>2021-05-17T03:32:07Z</td>\n",
              "      <td>1</td>\n",
              "      <td>1</td>\n",
              "      <td>1</td>\n",
              "      <td>1179</td>\n",
              "      <td>1193</td>\n",
              "      <td>-99.0</td>\n",
              "      <td>-99</td>\n",
              "      <td>NaN</td>\n",
              "      <td>NaN</td>\n",
              "      <td>18.0</td>\n",
              "      <td>3.0</td>\n",
              "      <td>EL</td>\n",
              "      <td>391</td>\n",
              "      <td>GRC</td>\n",
              "      <td>GRC.1_1</td>\n",
              "      <td>GRC</td>\n",
              "      <td>Greece</td>\n",
              "      <td>Aegean</td>\n",
              "      <td>Greece</td>\n",
              "      <td>1193</td>\n",
              "      <td>Voreio Aigaio</td>\n",
              "      <td>1</td>\n",
              "      <td>GR</td>\n",
              "      <td>2021-05-17</td>\n",
              "      <td>2021-05-17</td>\n",
              "      <td>NaN</td>\n",
              "      <td>3</td>\n",
              "      <td>0</td>\n",
              "      <td>0</td>\n",
              "      <td>1</td>\n",
              "      <td>0</td>\n",
              "      <td>0</td>\n",
              "      <td>1</td>\n",
              "      <td>0</td>\n",
              "      <td>0</td>\n",
              "      <td>...</td>\n",
              "      <td>0</td>\n",
              "      <td>0</td>\n",
              "      <td>0</td>\n",
              "      <td>0</td>\n",
              "      <td>0</td>\n",
              "      <td>0</td>\n",
              "      <td>0</td>\n",
              "      <td>0</td>\n",
              "      <td>1</td>\n",
              "      <td>0</td>\n",
              "      <td>0</td>\n",
              "      <td>0</td>\n",
              "      <td>0</td>\n",
              "      <td>0</td>\n",
              "      <td>0</td>\n",
              "      <td>1</td>\n",
              "      <td>0</td>\n",
              "      <td>0</td>\n",
              "      <td>0</td>\n",
              "      <td>0</td>\n",
              "      <td>0</td>\n",
              "      <td>0</td>\n",
              "      <td>0</td>\n",
              "      <td>1</td>\n",
              "      <td>0</td>\n",
              "      <td>0</td>\n",
              "      <td>0</td>\n",
              "      <td>0</td>\n",
              "      <td>0</td>\n",
              "      <td>0</td>\n",
              "      <td>0</td>\n",
              "      <td>0</td>\n",
              "      <td>1</td>\n",
              "      <td>0</td>\n",
              "      <td>0</td>\n",
              "      <td>0</td>\n",
              "      <td>0</td>\n",
              "      <td>1</td>\n",
              "      <td>0</td>\n",
              "      <td>0</td>\n",
              "    </tr>\n",
              "    <tr>\n",
              "      <th>17713</th>\n",
              "      <td>EU</td>\n",
              "      <td>10</td>\n",
              "      <td>10288.469859</td>\n",
              "      <td>1</td>\n",
              "      <td>2021-05-17T01:28:27Z</td>\n",
              "      <td>1</td>\n",
              "      <td>1</td>\n",
              "      <td>1</td>\n",
              "      <td>1179</td>\n",
              "      <td>1193</td>\n",
              "      <td>3.0</td>\n",
              "      <td>3</td>\n",
              "      <td>NaN</td>\n",
              "      <td>NaN</td>\n",
              "      <td>15.0</td>\n",
              "      <td>2.0</td>\n",
              "      <td>EL</td>\n",
              "      <td>360</td>\n",
              "      <td>GRC</td>\n",
              "      <td>GRC.1_1</td>\n",
              "      <td>GRC</td>\n",
              "      <td>Greece</td>\n",
              "      <td>Aegean</td>\n",
              "      <td>Greece</td>\n",
              "      <td>1193</td>\n",
              "      <td>Voreio Aigaio</td>\n",
              "      <td>1</td>\n",
              "      <td>GR</td>\n",
              "      <td>2021-05-17</td>\n",
              "      <td>2021-05-17</td>\n",
              "      <td>NaN</td>\n",
              "      <td>1</td>\n",
              "      <td>0</td>\n",
              "      <td>0</td>\n",
              "      <td>1</td>\n",
              "      <td>0</td>\n",
              "      <td>0</td>\n",
              "      <td>1</td>\n",
              "      <td>0</td>\n",
              "      <td>0</td>\n",
              "      <td>...</td>\n",
              "      <td>0</td>\n",
              "      <td>0</td>\n",
              "      <td>0</td>\n",
              "      <td>0</td>\n",
              "      <td>0</td>\n",
              "      <td>0</td>\n",
              "      <td>0</td>\n",
              "      <td>0</td>\n",
              "      <td>0</td>\n",
              "      <td>0</td>\n",
              "      <td>0</td>\n",
              "      <td>0</td>\n",
              "      <td>1</td>\n",
              "      <td>0</td>\n",
              "      <td>0</td>\n",
              "      <td>0</td>\n",
              "      <td>1</td>\n",
              "      <td>0</td>\n",
              "      <td>0</td>\n",
              "      <td>0</td>\n",
              "      <td>0</td>\n",
              "      <td>1</td>\n",
              "      <td>0</td>\n",
              "      <td>0</td>\n",
              "      <td>0</td>\n",
              "      <td>0</td>\n",
              "      <td>0</td>\n",
              "      <td>0</td>\n",
              "      <td>0</td>\n",
              "      <td>0</td>\n",
              "      <td>0</td>\n",
              "      <td>0</td>\n",
              "      <td>1</td>\n",
              "      <td>0</td>\n",
              "      <td>0</td>\n",
              "      <td>1</td>\n",
              "      <td>0</td>\n",
              "      <td>0</td>\n",
              "      <td>0</td>\n",
              "      <td>0</td>\n",
              "    </tr>\n",
              "  </tbody>\n",
              "</table>\n",
              "<p>5 rows × 735 columns</p>\n",
              "</div>"
            ],
            "text/plain": [
              "      survey_region  survey_version        weight  ...  E7.3 E7.4  E7.5\n",
              "17709            EU              10  18401.936658  ...     0    0     0\n",
              "17710            EU              10   6443.086421  ...     0    0     0\n",
              "17711            EU              10   7592.378865  ...     0    0     0\n",
              "17712            EU              10   7017.825984  ...     1    0     0\n",
              "17713            EU              10  10288.469859  ...     0    0     0\n",
              "\n",
              "[5 rows x 735 columns]"
            ]
          },
          "metadata": {
            "tags": []
          },
          "execution_count": 5
        }
      ]
    },
    {
      "cell_type": "code",
      "metadata": {
        "colab": {
          "base_uri": "https://localhost:8080/"
        },
        "id": "fyD9o_11Txo_",
        "outputId": "ace50a9d-cc3a-4658-9fa0-38de1ee1528b"
      },
      "source": [
        "df.shape"
      ],
      "execution_count": null,
      "outputs": [
        {
          "output_type": "execute_result",
          "data": {
            "text/plain": [
              "(17714, 735)"
            ]
          },
          "metadata": {
            "tags": []
          },
          "execution_count": 8
        }
      ]
    },
    {
      "cell_type": "markdown",
      "metadata": {
        "id": "soMCTVjo6IVI"
      },
      "source": [
        "# Creating our dataframe"
      ]
    },
    {
      "cell_type": "code",
      "metadata": {
        "id": "3mTK85rBT5Lq"
      },
      "source": [
        "df_ok = df[['B1_1.1','B1_2.1','B1_3.1','B1_4.1','B1_5.1','B1_6.1','B1_7.1','B1_8.1','B1_9.1','B1_10.1','B1_11.1','B1_12.1','B1_13.1','B1_14.1','B8.1']]"
      ],
      "execution_count": 4,
      "outputs": []
    },
    {
      "cell_type": "code",
      "metadata": {
        "colab": {
          "base_uri": "https://localhost:8080/"
        },
        "id": "iZ7ILaxW3uri",
        "outputId": "c96f256c-2155-454c-c98f-37fcc17331bf"
      },
      "source": [
        "df_ok.shape"
      ],
      "execution_count": 5,
      "outputs": [
        {
          "output_type": "execute_result",
          "data": {
            "text/plain": [
              "(17714, 15)"
            ]
          },
          "metadata": {
            "tags": []
          },
          "execution_count": 5
        }
      ]
    },
    {
      "cell_type": "code",
      "metadata": {
        "colab": {
          "base_uri": "https://localhost:8080/",
          "height": 203
        },
        "id": "8mVbwS9x3v8s",
        "outputId": "93cce904-2b75-44de-be9f-c81923d9825b"
      },
      "source": [
        "df_ok.head()"
      ],
      "execution_count": null,
      "outputs": [
        {
          "output_type": "execute_result",
          "data": {
            "text/html": [
              "<div>\n",
              "<style scoped>\n",
              "    .dataframe tbody tr th:only-of-type {\n",
              "        vertical-align: middle;\n",
              "    }\n",
              "\n",
              "    .dataframe tbody tr th {\n",
              "        vertical-align: top;\n",
              "    }\n",
              "\n",
              "    .dataframe thead th {\n",
              "        text-align: right;\n",
              "    }\n",
              "</style>\n",
              "<table border=\"1\" class=\"dataframe\">\n",
              "  <thead>\n",
              "    <tr style=\"text-align: right;\">\n",
              "      <th></th>\n",
              "      <th>B1_1.1</th>\n",
              "      <th>B1_2.1</th>\n",
              "      <th>B1_3.1</th>\n",
              "      <th>B1_4.1</th>\n",
              "      <th>B1_5.1</th>\n",
              "      <th>B1_6.1</th>\n",
              "      <th>B1_7.1</th>\n",
              "      <th>B1_8.1</th>\n",
              "      <th>B1_9.1</th>\n",
              "      <th>B1_10.1</th>\n",
              "      <th>B1_11.1</th>\n",
              "      <th>B1_12.1</th>\n",
              "      <th>B1_13.1</th>\n",
              "      <th>B1_14.1</th>\n",
              "      <th>B8.1</th>\n",
              "    </tr>\n",
              "  </thead>\n",
              "  <tbody>\n",
              "    <tr>\n",
              "      <th>0</th>\n",
              "      <td>0</td>\n",
              "      <td>0</td>\n",
              "      <td>0</td>\n",
              "      <td>0</td>\n",
              "      <td>0</td>\n",
              "      <td>0</td>\n",
              "      <td>0</td>\n",
              "      <td>0</td>\n",
              "      <td>0</td>\n",
              "      <td>0</td>\n",
              "      <td>0</td>\n",
              "      <td>0</td>\n",
              "      <td>0</td>\n",
              "      <td>0</td>\n",
              "      <td>0</td>\n",
              "    </tr>\n",
              "    <tr>\n",
              "      <th>1</th>\n",
              "      <td>0</td>\n",
              "      <td>0</td>\n",
              "      <td>0</td>\n",
              "      <td>0</td>\n",
              "      <td>0</td>\n",
              "      <td>0</td>\n",
              "      <td>0</td>\n",
              "      <td>0</td>\n",
              "      <td>0</td>\n",
              "      <td>0</td>\n",
              "      <td>0</td>\n",
              "      <td>0</td>\n",
              "      <td>0</td>\n",
              "      <td>0</td>\n",
              "      <td>0</td>\n",
              "    </tr>\n",
              "    <tr>\n",
              "      <th>2</th>\n",
              "      <td>0</td>\n",
              "      <td>1</td>\n",
              "      <td>1</td>\n",
              "      <td>0</td>\n",
              "      <td>0</td>\n",
              "      <td>0</td>\n",
              "      <td>0</td>\n",
              "      <td>0</td>\n",
              "      <td>0</td>\n",
              "      <td>0</td>\n",
              "      <td>0</td>\n",
              "      <td>0</td>\n",
              "      <td>0</td>\n",
              "      <td>0</td>\n",
              "      <td>1</td>\n",
              "    </tr>\n",
              "    <tr>\n",
              "      <th>3</th>\n",
              "      <td>0</td>\n",
              "      <td>0</td>\n",
              "      <td>0</td>\n",
              "      <td>0</td>\n",
              "      <td>0</td>\n",
              "      <td>0</td>\n",
              "      <td>0</td>\n",
              "      <td>0</td>\n",
              "      <td>0</td>\n",
              "      <td>0</td>\n",
              "      <td>0</td>\n",
              "      <td>0</td>\n",
              "      <td>0</td>\n",
              "      <td>0</td>\n",
              "      <td>0</td>\n",
              "    </tr>\n",
              "    <tr>\n",
              "      <th>4</th>\n",
              "      <td>0</td>\n",
              "      <td>0</td>\n",
              "      <td>0</td>\n",
              "      <td>0</td>\n",
              "      <td>0</td>\n",
              "      <td>0</td>\n",
              "      <td>0</td>\n",
              "      <td>0</td>\n",
              "      <td>0</td>\n",
              "      <td>0</td>\n",
              "      <td>0</td>\n",
              "      <td>0</td>\n",
              "      <td>0</td>\n",
              "      <td>0</td>\n",
              "      <td>0</td>\n",
              "    </tr>\n",
              "  </tbody>\n",
              "</table>\n",
              "</div>"
            ],
            "text/plain": [
              "   B1_1.1  B1_2.1  B1_3.1  B1_4.1  ...  B1_12.1  B1_13.1  B1_14.1  B8.1\n",
              "0       0       0       0       0  ...        0        0        0     0\n",
              "1       0       0       0       0  ...        0        0        0     0\n",
              "2       0       1       1       0  ...        0        0        0     1\n",
              "3       0       0       0       0  ...        0        0        0     0\n",
              "4       0       0       0       0  ...        0        0        0     0\n",
              "\n",
              "[5 rows x 15 columns]"
            ]
          },
          "metadata": {
            "tags": []
          },
          "execution_count": 7
        }
      ]
    },
    {
      "cell_type": "code",
      "metadata": {
        "colab": {
          "base_uri": "https://localhost:8080/",
          "height": 203
        },
        "id": "_IEVss1W3xxo",
        "outputId": "93962c0c-4a58-45bc-ea35-2e49de697631"
      },
      "source": [
        "df_ok.tail()"
      ],
      "execution_count": null,
      "outputs": [
        {
          "output_type": "execute_result",
          "data": {
            "text/html": [
              "<div>\n",
              "<style scoped>\n",
              "    .dataframe tbody tr th:only-of-type {\n",
              "        vertical-align: middle;\n",
              "    }\n",
              "\n",
              "    .dataframe tbody tr th {\n",
              "        vertical-align: top;\n",
              "    }\n",
              "\n",
              "    .dataframe thead th {\n",
              "        text-align: right;\n",
              "    }\n",
              "</style>\n",
              "<table border=\"1\" class=\"dataframe\">\n",
              "  <thead>\n",
              "    <tr style=\"text-align: right;\">\n",
              "      <th></th>\n",
              "      <th>B1_1.1</th>\n",
              "      <th>B1_2.1</th>\n",
              "      <th>B1_3.1</th>\n",
              "      <th>B1_4.1</th>\n",
              "      <th>B1_5.1</th>\n",
              "      <th>B1_6.1</th>\n",
              "      <th>B1_7.1</th>\n",
              "      <th>B1_8.1</th>\n",
              "      <th>B1_9.1</th>\n",
              "      <th>B1_10.1</th>\n",
              "      <th>B1_11.1</th>\n",
              "      <th>B1_12.1</th>\n",
              "      <th>B1_13.1</th>\n",
              "      <th>B1_14.1</th>\n",
              "      <th>B8.1</th>\n",
              "    </tr>\n",
              "  </thead>\n",
              "  <tbody>\n",
              "    <tr>\n",
              "      <th>17709</th>\n",
              "      <td>0</td>\n",
              "      <td>0</td>\n",
              "      <td>0</td>\n",
              "      <td>0</td>\n",
              "      <td>0</td>\n",
              "      <td>0</td>\n",
              "      <td>0</td>\n",
              "      <td>0</td>\n",
              "      <td>0</td>\n",
              "      <td>0</td>\n",
              "      <td>0</td>\n",
              "      <td>0</td>\n",
              "      <td>0</td>\n",
              "      <td>0</td>\n",
              "      <td>0</td>\n",
              "    </tr>\n",
              "    <tr>\n",
              "      <th>17710</th>\n",
              "      <td>0</td>\n",
              "      <td>0</td>\n",
              "      <td>0</td>\n",
              "      <td>0</td>\n",
              "      <td>0</td>\n",
              "      <td>0</td>\n",
              "      <td>0</td>\n",
              "      <td>0</td>\n",
              "      <td>0</td>\n",
              "      <td>0</td>\n",
              "      <td>0</td>\n",
              "      <td>0</td>\n",
              "      <td>0</td>\n",
              "      <td>0</td>\n",
              "      <td>0</td>\n",
              "    </tr>\n",
              "    <tr>\n",
              "      <th>17711</th>\n",
              "      <td>0</td>\n",
              "      <td>0</td>\n",
              "      <td>0</td>\n",
              "      <td>0</td>\n",
              "      <td>0</td>\n",
              "      <td>0</td>\n",
              "      <td>0</td>\n",
              "      <td>0</td>\n",
              "      <td>0</td>\n",
              "      <td>0</td>\n",
              "      <td>0</td>\n",
              "      <td>0</td>\n",
              "      <td>0</td>\n",
              "      <td>0</td>\n",
              "      <td>0</td>\n",
              "    </tr>\n",
              "    <tr>\n",
              "      <th>17712</th>\n",
              "      <td>0</td>\n",
              "      <td>0</td>\n",
              "      <td>0</td>\n",
              "      <td>0</td>\n",
              "      <td>0</td>\n",
              "      <td>0</td>\n",
              "      <td>0</td>\n",
              "      <td>0</td>\n",
              "      <td>0</td>\n",
              "      <td>0</td>\n",
              "      <td>0</td>\n",
              "      <td>0</td>\n",
              "      <td>0</td>\n",
              "      <td>0</td>\n",
              "      <td>0</td>\n",
              "    </tr>\n",
              "    <tr>\n",
              "      <th>17713</th>\n",
              "      <td>0</td>\n",
              "      <td>0</td>\n",
              "      <td>0</td>\n",
              "      <td>0</td>\n",
              "      <td>1</td>\n",
              "      <td>0</td>\n",
              "      <td>1</td>\n",
              "      <td>0</td>\n",
              "      <td>0</td>\n",
              "      <td>0</td>\n",
              "      <td>0</td>\n",
              "      <td>1</td>\n",
              "      <td>0</td>\n",
              "      <td>0</td>\n",
              "      <td>0</td>\n",
              "    </tr>\n",
              "  </tbody>\n",
              "</table>\n",
              "</div>"
            ],
            "text/plain": [
              "       B1_1.1  B1_2.1  B1_3.1  B1_4.1  ...  B1_12.1  B1_13.1  B1_14.1  B8.1\n",
              "17709       0       0       0       0  ...        0        0        0     0\n",
              "17710       0       0       0       0  ...        0        0        0     0\n",
              "17711       0       0       0       0  ...        0        0        0     0\n",
              "17712       0       0       0       0  ...        0        0        0     0\n",
              "17713       0       0       0       0  ...        1        0        0     0\n",
              "\n",
              "[5 rows x 15 columns]"
            ]
          },
          "metadata": {
            "tags": []
          },
          "execution_count": 8
        }
      ]
    },
    {
      "cell_type": "code",
      "metadata": {
        "id": "YedNUFzW30VQ"
      },
      "source": [
        ""
      ],
      "execution_count": null,
      "outputs": []
    },
    {
      "cell_type": "markdown",
      "metadata": {
        "id": "T4aUjZV04Nwm"
      },
      "source": [
        "# Data Visualization"
      ]
    },
    {
      "cell_type": "code",
      "metadata": {
        "colab": {
          "base_uri": "https://localhost:8080/",
          "height": 998
        },
        "id": "RGvbLC1_4PkC",
        "outputId": "88778436-0863-491e-d20b-76e37fb0e099"
      },
      "source": [
        "df_ok.hist(figsize=(20, 18), bins=40, xlabelsize=8, ylabelsize=8, )\n",
        "plt.show()"
      ],
      "execution_count": null,
      "outputs": [
        {
          "output_type": "display_data",
          "data": {
            "image/png": "[encoded data removed]",
            "text/plain": [
              "<Figure size 1440x1296 with 16 Axes>"
            ]
          },
          "metadata": {
            "tags": [],
            "needs_background": "light"
          }
        }
      ]
    },
    {
      "cell_type": "code",
      "metadata": {
        "colab": {
          "base_uri": "https://localhost:8080/",
          "height": 856
        },
        "id": "SZR7IQ-L4cs5",
        "outputId": "6ebf80ad-e553-4be0-dee8-68cff58876fc"
      },
      "source": [
        "f, ax = plt.subplots(figsize=(15, 15))\n",
        "corr = df_ok.corr()\n",
        "sns.heatmap(corr,annot=True, vmin = -1, vmax = 1, square = True, center =0, \n",
        "            xticklabels=corr.columns.values,\n",
        "            yticklabels=corr.columns.values)\n",
        "plt.title('Correlation Map')\n",
        "plt.show()"
      ],
      "execution_count": null,
      "outputs": [
        {
          "output_type": "display_data",
          "data": {
            "image/png": "[encoded data removed]",
            "text/plain": [
              "<Figure size 1080x1080 with 2 Axes>"
            ]
          },
          "metadata": {
            "tags": [],
            "needs_background": "light"
          }
        }
      ]
    },
    {
      "cell_type": "code",
      "metadata": {
        "id": "da8XY3Lm5BOQ"
      },
      "source": [
        ""
      ],
      "execution_count": null,
      "outputs": []
    },
    {
      "cell_type": "markdown",
      "metadata": {
        "id": "0hEO4mtj5B_g"
      },
      "source": [
        "### Output"
      ]
    },
    {
      "cell_type": "code",
      "metadata": {
        "colab": {
          "base_uri": "https://localhost:8080/",
          "height": 314
        },
        "id": "EmW1RBJh43cn",
        "outputId": "24d2c5d5-511f-4cd4-fdeb-b649a4483628"
      },
      "source": [
        "df_ok.hist('B8.1')"
      ],
      "execution_count": null,
      "outputs": [
        {
          "output_type": "execute_result",
          "data": {
            "text/plain": [
              "array([[<matplotlib.axes._subplots.AxesSubplot object at 0x7fbc95c54110>]],\n",
              "      dtype=object)"
            ]
          },
          "metadata": {
            "tags": []
          },
          "execution_count": 13
        },
        {
          "output_type": "display_data",
          "data": {
            "image/png": "[encoded data removed]",
            "text/plain": [
              "<Figure size 432x288 with 1 Axes>"
            ]
          },
          "metadata": {
            "tags": [],
            "needs_background": "light"
          }
        }
      ]
    },
    {
      "cell_type": "code",
      "metadata": {
        "colab": {
          "base_uri": "https://localhost:8080/",
          "height": 142
        },
        "id": "-NKXa8yz4_4y",
        "outputId": "e6f63bbf-b714-4b29-8a36-c842b2773380"
      },
      "source": [
        "freq = df_ok.groupby(['B8.1']).count()\n",
        "freq"
      ],
      "execution_count": null,
      "outputs": [
        {
          "output_type": "execute_result",
          "data": {
            "text/html": [
              "<div>\n",
              "<style scoped>\n",
              "    .dataframe tbody tr th:only-of-type {\n",
              "        vertical-align: middle;\n",
              "    }\n",
              "\n",
              "    .dataframe tbody tr th {\n",
              "        vertical-align: top;\n",
              "    }\n",
              "\n",
              "    .dataframe thead th {\n",
              "        text-align: right;\n",
              "    }\n",
              "</style>\n",
              "<table border=\"1\" class=\"dataframe\">\n",
              "  <thead>\n",
              "    <tr style=\"text-align: right;\">\n",
              "      <th></th>\n",
              "      <th>B1_1.1</th>\n",
              "      <th>B1_2.1</th>\n",
              "      <th>B1_3.1</th>\n",
              "      <th>B1_4.1</th>\n",
              "      <th>B1_5.1</th>\n",
              "      <th>B1_6.1</th>\n",
              "      <th>B1_7.1</th>\n",
              "      <th>B1_8.1</th>\n",
              "      <th>B1_9.1</th>\n",
              "      <th>B1_10.1</th>\n",
              "      <th>B1_11.1</th>\n",
              "      <th>B1_12.1</th>\n",
              "      <th>B1_13.1</th>\n",
              "      <th>B1_14.1</th>\n",
              "    </tr>\n",
              "    <tr>\n",
              "      <th>B8.1</th>\n",
              "      <th></th>\n",
              "      <th></th>\n",
              "      <th></th>\n",
              "      <th></th>\n",
              "      <th></th>\n",
              "      <th></th>\n",
              "      <th></th>\n",
              "      <th></th>\n",
              "      <th></th>\n",
              "      <th></th>\n",
              "      <th></th>\n",
              "      <th></th>\n",
              "      <th></th>\n",
              "      <th></th>\n",
              "    </tr>\n",
              "  </thead>\n",
              "  <tbody>\n",
              "    <tr>\n",
              "      <th>0</th>\n",
              "      <td>17087</td>\n",
              "      <td>17087</td>\n",
              "      <td>17087</td>\n",
              "      <td>17087</td>\n",
              "      <td>17087</td>\n",
              "      <td>17087</td>\n",
              "      <td>17087</td>\n",
              "      <td>17087</td>\n",
              "      <td>17087</td>\n",
              "      <td>17087</td>\n",
              "      <td>17087</td>\n",
              "      <td>17087</td>\n",
              "      <td>17087</td>\n",
              "      <td>17087</td>\n",
              "    </tr>\n",
              "    <tr>\n",
              "      <th>1</th>\n",
              "      <td>627</td>\n",
              "      <td>627</td>\n",
              "      <td>627</td>\n",
              "      <td>627</td>\n",
              "      <td>627</td>\n",
              "      <td>627</td>\n",
              "      <td>627</td>\n",
              "      <td>627</td>\n",
              "      <td>627</td>\n",
              "      <td>627</td>\n",
              "      <td>627</td>\n",
              "      <td>627</td>\n",
              "      <td>627</td>\n",
              "      <td>627</td>\n",
              "    </tr>\n",
              "  </tbody>\n",
              "</table>\n",
              "</div>"
            ],
            "text/plain": [
              "      B1_1.1  B1_2.1  B1_3.1  B1_4.1  ...  B1_11.1  B1_12.1  B1_13.1  B1_14.1\n",
              "B8.1                                  ...                                    \n",
              "0      17087   17087   17087   17087  ...    17087    17087    17087    17087\n",
              "1        627     627     627     627  ...      627      627      627      627\n",
              "\n",
              "[2 rows x 14 columns]"
            ]
          },
          "metadata": {
            "tags": []
          },
          "execution_count": 14
        }
      ]
    },
    {
      "cell_type": "markdown",
      "metadata": {
        "id": "2uJ99ycW5xGn"
      },
      "source": [
        "Positive in the last 14 days -> 627\n",
        "\n",
        "Negative in the last 14 days -> 17087"
      ]
    },
    {
      "cell_type": "code",
      "metadata": {
        "id": "lVZs9NXw5rni"
      },
      "source": [
        ""
      ],
      "execution_count": null,
      "outputs": []
    },
    {
      "cell_type": "markdown",
      "metadata": {
        "id": "NUPCBxJuDMFW"
      },
      "source": [
        "# Training & Test"
      ]
    },
    {
      "cell_type": "code",
      "metadata": {
        "id": "9jf9-avolu0H"
      },
      "source": [
        "X = df_ok.drop(['B8.1'], axis=1)\n",
        "Y = df_ok['B8.1']"
      ],
      "execution_count": 6,
      "outputs": []
    },
    {
      "cell_type": "code",
      "metadata": {
        "id": "mqOYMXOr54qK"
      },
      "source": [
        "X_train, X_test, Y_train, Y_test = train_test_split(X, Y, test_size = 0.2, random_state=2)\n"
      ],
      "execution_count": 7,
      "outputs": []
    },
    {
      "cell_type": "code",
      "metadata": {
        "colab": {
          "base_uri": "https://localhost:8080/"
        },
        "id": "xY3LawVNl-id",
        "outputId": "1b721f04-c53f-496b-ec62-abf810275cfc"
      },
      "source": [
        "print(X_train.shape)\n",
        "print(X_test.shape)\n",
        "print(Y_train.shape)\n",
        "print(Y_test.shape)"
      ],
      "execution_count": 8,
      "outputs": [
        {
          "output_type": "stream",
          "text": [
            "(14171, 14)\n",
            "(3543, 14)\n",
            "(14171,)\n",
            "(3543,)\n"
          ],
          "name": "stdout"
        }
      ]
    },
    {
      "cell_type": "code",
      "metadata": {
        "id": "RWvoqGwclrZu"
      },
      "source": [
        "'''\n",
        "X_norm = preprocessing.scale(X_train)\n",
        "scaler = preprocessing.StandardScaler().fit(X_train)\n",
        "X_train_norm = scaler.transform(X_train)\n",
        "X_test_norm = scaler.transform(X_test)\n",
        "print(X_train_norm.shape)\n",
        "print(X_test_norm.shape)\n",
        "'''"
      ],
      "execution_count": null,
      "outputs": []
    },
    {
      "cell_type": "markdown",
      "metadata": {
        "id": "1sfPGyQ5DW_C"
      },
      "source": [
        "## Decision Tree"
      ]
    },
    {
      "cell_type": "code",
      "metadata": {
        "id": "cBXBpY-PDb6P"
      },
      "source": [
        "max_depth = np.arange(1, 10)\n",
        "min_samples_leaf = [50, 100, 200]\n",
        "\n",
        "# GridSearchCV\n",
        "param_grid = { 'criterion':['gini','entropy'],'max_depth': max_depth,'min_samples_leaf': min_samples_leaf}"
      ],
      "execution_count": 9,
      "outputs": []
    },
    {
      "cell_type": "code",
      "metadata": {
        "colab": {
          "base_uri": "https://localhost:8080/"
        },
        "id": "jcMrdSsRnOXj",
        "outputId": "427e06ce-48bd-4bf4-d1db-2bee76be4526"
      },
      "source": [
        "dtree_model=tree.DecisionTreeClassifier()\n",
        "\n",
        "dtree_model = GridSearchCV(dtree_model, param_grid, cv=3)\n",
        "\n",
        "dtree_model=dtree_model.fit(X_train, Y_train)\n",
        "print(dtree_model.best_params_)\n"
      ],
      "execution_count": 10,
      "outputs": [
        {
          "output_type": "stream",
          "text": [
            "{'criterion': 'gini', 'max_depth': 1, 'min_samples_leaf': 50}\n"
          ],
          "name": "stdout"
        }
      ]
    },
    {
      "cell_type": "code",
      "metadata": {
        "colab": {
          "base_uri": "https://localhost:8080/",
          "height": 613
        },
        "id": "vmRRpOs1nOdi",
        "outputId": "266ad8c8-9eba-4bcb-88b7-42681ce5069e"
      },
      "source": [
        "my_model = dtree_model.best_estimator_\n",
        "my_tree=my_model.fit(X_train, Y_train)\n",
        "\n",
        "y_predicted = my_model.predict(X_test)\n",
        "\n",
        "print('Accuracy:',accuracy_score(Y_test, y_predicted))\n",
        "print(classification_report(Y_test, y_predicted))\n",
        "matrix = confusion_matrix(Y_test, y_predicted)\n",
        "print(matrix)\n",
        "plt.figure(figsize=(7,7))\n",
        "sns.heatmap(matrix,annot=True, square = True, fmt='g')\n",
        "plt.show()\n",
        "#print(confusion_matrix(Y_test, y_predicted))\n"
      ],
      "execution_count": 11,
      "outputs": [
        {
          "output_type": "stream",
          "text": [
            "Accuracy: 0.9709285915890489\n",
            "              precision    recall  f1-score   support\n",
            "\n",
            "           0       0.97      1.00      0.99      3425\n",
            "           1       0.67      0.25      0.36       118\n",
            "\n",
            "    accuracy                           0.97      3543\n",
            "   macro avg       0.82      0.62      0.67      3543\n",
            "weighted avg       0.96      0.97      0.96      3543\n",
            "\n",
            "[[3411   14]\n",
            " [  89   29]]\n"
          ],
          "name": "stdout"
        },
        {
          "output_type": "display_data",
          "data": {
            "image/png": "[encoded data removed]",
            "text/plain": [
              "<Figure size 504x504 with 2 Axes>"
            ]
          },
          "metadata": {
            "tags": [],
            "needs_background": "light"
          }
        }
      ]
    },
    {
      "cell_type": "code",
      "metadata": {
        "colab": {
          "base_uri": "https://localhost:8080/"
        },
        "id": "XaQEutwGniO0",
        "outputId": "d332cafc-0afd-461e-97b8-c78ed269d450"
      },
      "source": [
        "my_tree.get_depth()\n",
        "my_tree.get_params()"
      ],
      "execution_count": 12,
      "outputs": [
        {
          "output_type": "execute_result",
          "data": {
            "text/plain": [
              "{'ccp_alpha': 0.0,\n",
              " 'class_weight': None,\n",
              " 'criterion': 'gini',\n",
              " 'max_depth': 1,\n",
              " 'max_features': None,\n",
              " 'max_leaf_nodes': None,\n",
              " 'min_impurity_decrease': 0.0,\n",
              " 'min_impurity_split': None,\n",
              " 'min_samples_leaf': 50,\n",
              " 'min_samples_split': 2,\n",
              " 'min_weight_fraction_leaf': 0.0,\n",
              " 'presort': 'deprecated',\n",
              " 'random_state': None,\n",
              " 'splitter': 'best'}"
            ]
          },
          "metadata": {
            "tags": []
          },
          "execution_count": 12
        }
      ]
    },
    {
      "cell_type": "code",
      "metadata": {
        "colab": {
          "base_uri": "https://localhost:8080/",
          "height": 265
        },
        "id": "K9jY9eKhnOhE",
        "outputId": "6a6aacd4-8819-49ab-9965-adcce91d5e7f"
      },
      "source": [
        "from matplotlib import pyplot\n",
        "importance=my_tree.feature_importances_\n",
        "pyplot.bar([x for x in range(len(importance))], importance)\n",
        "pyplot.show()"
      ],
      "execution_count": 13,
      "outputs": [
        {
          "output_type": "display_data",
          "data": {
            "image/png": "[encoded data removed]",
            "text/plain": [
              "<Figure size 432x288 with 1 Axes>"
            ]
          },
          "metadata": {
            "tags": [],
            "needs_background": "light"
          }
        }
      ]
    },
    {
      "cell_type": "markdown",
      "metadata": {
        "id": "HmepSBXkDddC"
      },
      "source": [
        "## Random Forest"
      ]
    },
    {
      "cell_type": "code",
      "metadata": {
        "id": "N5AtPTzYDf4e"
      },
      "source": [
        "rfc=RandomForestClassifier(random_state=42)"
      ],
      "execution_count": 14,
      "outputs": []
    },
    {
      "cell_type": "code",
      "metadata": {
        "id": "WvKNcCGTrsSJ"
      },
      "source": [
        "param_grid = { \n",
        "    'n_estimators': [200, 500],\n",
        "    'max_features': ['auto', 'sqrt', 'log2'],\n",
        "    'max_depth' : [4,5,6,7,8],\n",
        "    'criterion' :['gini', 'entropy']\n",
        "}"
      ],
      "execution_count": 15,
      "outputs": []
    },
    {
      "cell_type": "code",
      "metadata": {
        "colab": {
          "base_uri": "https://localhost:8080/"
        },
        "id": "NhcxjgdxrsUP",
        "outputId": "11c4614c-92a2-4474-8b75-faf754539c71"
      },
      "source": [
        "CV_rfc = GridSearchCV(estimator=rfc, param_grid=param_grid, cv= 3)\n",
        "CV_rfc.fit(X_train, Y_train)"
      ],
      "execution_count": 16,
      "outputs": [
        {
          "output_type": "execute_result",
          "data": {
            "text/plain": [
              "GridSearchCV(cv=3, error_score=nan,\n",
              "             estimator=RandomForestClassifier(bootstrap=True, ccp_alpha=0.0,\n",
              "                                              class_weight=None,\n",
              "                                              criterion='gini', max_depth=None,\n",
              "                                              max_features='auto',\n",
              "                                              max_leaf_nodes=None,\n",
              "                                              max_samples=None,\n",
              "                                              min_impurity_decrease=0.0,\n",
              "                                              min_impurity_split=None,\n",
              "                                              min_samples_leaf=1,\n",
              "                                              min_samples_split=2,\n",
              "                                              min_weight_fraction_leaf=0.0,\n",
              "                                              n_estimators=100, n_jobs=None,\n",
              "                                              oob_score=False, random_state=42,\n",
              "                                              verbose=0, warm_start=False),\n",
              "             iid='deprecated', n_jobs=None,\n",
              "             param_grid={'criterion': ['gini', 'entropy'],\n",
              "                         'max_depth': [4, 5, 6, 7, 8],\n",
              "                         'max_features': ['auto', 'sqrt', 'log2'],\n",
              "                         'n_estimators': [200, 500]},\n",
              "             pre_dispatch='2*n_jobs', refit=True, return_train_score=False,\n",
              "             scoring=None, verbose=0)"
            ]
          },
          "metadata": {
            "tags": []
          },
          "execution_count": 16
        }
      ]
    },
    {
      "cell_type": "code",
      "metadata": {
        "colab": {
          "base_uri": "https://localhost:8080/"
        },
        "id": "kFEB-uuUrsYH",
        "outputId": "884207a8-1235-40fa-f6b6-65025578ecd9"
      },
      "source": [
        "CV_rfc.best_params_"
      ],
      "execution_count": 17,
      "outputs": [
        {
          "output_type": "execute_result",
          "data": {
            "text/plain": [
              "{'criterion': 'entropy',\n",
              " 'max_depth': 8,\n",
              " 'max_features': 'auto',\n",
              " 'n_estimators': 500}"
            ]
          },
          "metadata": {
            "tags": []
          },
          "execution_count": 17
        }
      ]
    },
    {
      "cell_type": "code",
      "metadata": {
        "id": "fM8FRgXcs8F5"
      },
      "source": [
        "my_model = CV_rfc.best_estimator_\n",
        "RF =my_model.fit(X_train, Y_train)\n"
      ],
      "execution_count": 18,
      "outputs": []
    },
    {
      "cell_type": "code",
      "metadata": {
        "id": "p_Jg_9sNtSA2"
      },
      "source": [
        "y_pred = RF.predict(X_test)"
      ],
      "execution_count": 19,
      "outputs": []
    },
    {
      "cell_type": "code",
      "metadata": {
        "colab": {
          "base_uri": "https://localhost:8080/",
          "height": 613
        },
        "id": "0mme0MURtWs_",
        "outputId": "672c55ce-6a77-45e8-e7d6-a22d9226fa83"
      },
      "source": [
        "print('Accuracy:',accuracy_score(Y_test, y_pred))\n",
        "print(classification_report(Y_test, y_pred))\n",
        "matrix = confusion_matrix(Y_test, y_pred)\n",
        "print(matrix)\n",
        "plt.figure(figsize=(7,7))\n",
        "sns.heatmap(matrix,annot=True, square = True, fmt='g')\n",
        "plt.show()\n",
        "#print(confusion_matrix(Y_test, y_pred))"
      ],
      "execution_count": 20,
      "outputs": [
        {
          "output_type": "stream",
          "text": [
            "Accuracy: 0.96923511148744\n",
            "              precision    recall  f1-score   support\n",
            "\n",
            "           0       0.97      1.00      0.98      3425\n",
            "           1       0.61      0.21      0.31       118\n",
            "\n",
            "    accuracy                           0.97      3543\n",
            "   macro avg       0.79      0.60      0.65      3543\n",
            "weighted avg       0.96      0.97      0.96      3543\n",
            "\n",
            "[[3409   16]\n",
            " [  93   25]]\n"
          ],
          "name": "stdout"
        },
        {
          "output_type": "display_data",
          "data": {
            "image/png": "[encoded data removed]",
            "text/plain": [
              "<Figure size 504x504 with 2 Axes>"
            ]
          },
          "metadata": {
            "tags": [],
            "needs_background": "light"
          }
        }
      ]
    },
    {
      "cell_type": "code",
      "metadata": {
        "id": "2-4shF1xr7vS"
      },
      "source": [
        ""
      ],
      "execution_count": null,
      "outputs": []
    },
    {
      "cell_type": "markdown",
      "metadata": {
        "id": "WSngn75bDghc"
      },
      "source": [
        "## KNN"
      ]
    },
    {
      "cell_type": "code",
      "metadata": {
        "colab": {
          "base_uri": "https://localhost:8080/"
        },
        "id": "-pUTzJRsocZu",
        "outputId": "6124931f-5f29-48ff-91cc-3f0995441960"
      },
      "source": [
        "k_values = range(1,51,2)\n",
        "param_grid = {'n_neighbors': k_values}\n",
        "\n",
        "kNN_model=KNeighborsClassifier()\n",
        "\n",
        "grid = GridSearchCV(kNN_model, param_grid, cv = 3, scoring = 'accuracy')\n",
        "grid.fit(X_train,Y_train)\n",
        "print(grid.best_params_)"
      ],
      "execution_count": 21,
      "outputs": [
        {
          "output_type": "stream",
          "text": [
            "{'n_neighbors': 3}\n"
          ],
          "name": "stdout"
        }
      ]
    },
    {
      "cell_type": "code",
      "metadata": {
        "id": "zMb51LKeov2k"
      },
      "source": [
        "my_model = grid.best_estimator_"
      ],
      "execution_count": 22,
      "outputs": []
    },
    {
      "cell_type": "code",
      "metadata": {
        "colab": {
          "base_uri": "https://localhost:8080/",
          "height": 613
        },
        "id": "gVsud3nNocbz",
        "outputId": "bbcc7263-fe94-4195-edc6-3f15cf39b7ea"
      },
      "source": [
        "my_model.fit(X_train, Y_train)\n",
        "y_predicted = my_model.predict(X_test)\n",
        "print('Accuracy:',accuracy_score(Y_test, y_predicted))\n",
        "print(classification_report(Y_test, y_predicted))\n",
        "\n",
        "matrix = confusion_matrix(Y_test, y_predicted)\n",
        "print(matrix)\n",
        "plt.figure(figsize=(7,7))\n",
        "sns.heatmap(matrix,annot=True, square = True, fmt='g')\n",
        "plt.show()\n"
      ],
      "execution_count": 23,
      "outputs": [
        {
          "output_type": "stream",
          "text": [
            "Accuracy: 0.9669771380186283\n",
            "              precision    recall  f1-score   support\n",
            "\n",
            "           0       0.97      1.00      0.98      3425\n",
            "           1       0.52      0.13      0.20       118\n",
            "\n",
            "    accuracy                           0.97      3543\n",
            "   macro avg       0.74      0.56      0.59      3543\n",
            "weighted avg       0.96      0.97      0.96      3543\n",
            "\n",
            "[[3411   14]\n",
            " [ 103   15]]\n"
          ],
          "name": "stdout"
        },
        {
          "output_type": "display_data",
          "data": {
            "image/png": "[encoded data removed]",
            "text/plain": [
              "<Figure size 504x504 with 2 Axes>"
            ]
          },
          "metadata": {
            "tags": [],
            "needs_background": "light"
          }
        }
      ]
    },
    {
      "cell_type": "markdown",
      "metadata": {
        "id": "pDGv9aZ6DjNn"
      },
      "source": [
        "## SVM"
      ]
    },
    {
      "cell_type": "code",
      "metadata": {
        "id": "Vh1J_5uvDkzG",
        "colab": {
          "base_uri": "https://localhost:8080/"
        },
        "outputId": "2fa4d3fd-b4df-42ac-b562-53b3950bcc4e"
      },
      "source": [
        "# defining parameter range\n",
        "param_grid = {'C': [0.1, 1, 10, 100, 1000], \n",
        "              'gamma': [1, 0.1, 0.01, 0.001, 0.0001],\n",
        "              'kernel': ['rbf']} \n",
        "  \n",
        "grid = GridSearchCV(SVC(), param_grid, refit = True)\n",
        "  \n",
        "# fitting the model for grid search\n",
        "grid.fit(X_train, Y_train)"
      ],
      "execution_count": 24,
      "outputs": [
        {
          "output_type": "execute_result",
          "data": {
            "text/plain": [
              "GridSearchCV(cv=None, error_score=nan,\n",
              "             estimator=SVC(C=1.0, break_ties=False, cache_size=200,\n",
              "                           class_weight=None, coef0=0.0,\n",
              "                           decision_function_shape='ovr', degree=3,\n",
              "                           gamma='scale', kernel='rbf', max_iter=-1,\n",
              "                           probability=False, random_state=None, shrinking=True,\n",
              "                           tol=0.001, verbose=False),\n",
              "             iid='deprecated', n_jobs=None,\n",
              "             param_grid={'C': [0.1, 1, 10, 100, 1000],\n",
              "                         'gamma': [1, 0.1, 0.01, 0.001, 0.0001],\n",
              "                         'kernel': ['rbf']},\n",
              "             pre_dispatch='2*n_jobs', refit=True, return_train_score=False,\n",
              "             scoring=None, verbose=0)"
            ]
          },
          "metadata": {
            "tags": []
          },
          "execution_count": 24
        }
      ]
    },
    {
      "cell_type": "code",
      "metadata": {
        "colab": {
          "base_uri": "https://localhost:8080/"
        },
        "id": "ee5LSBnCt8Pq",
        "outputId": "9b8fa8e9-9287-4c34-c394-01398d64b495"
      },
      "source": [
        "# print best parameter after tuning\n",
        "print(grid.best_params_)\n",
        "  \n",
        "# print how our model looks after hyper-parameter tuning\n",
        "print(grid.best_estimator_)"
      ],
      "execution_count": 25,
      "outputs": [
        {
          "output_type": "stream",
          "text": [
            "{'C': 1, 'gamma': 0.1, 'kernel': 'rbf'}\n",
            "SVC(C=1, break_ties=False, cache_size=200, class_weight=None, coef0=0.0,\n",
            "    decision_function_shape='ovr', degree=3, gamma=0.1, kernel='rbf',\n",
            "    max_iter=-1, probability=False, random_state=None, shrinking=True,\n",
            "    tol=0.001, verbose=False)\n"
          ],
          "name": "stdout"
        }
      ]
    },
    {
      "cell_type": "code",
      "metadata": {
        "colab": {
          "base_uri": "https://localhost:8080/",
          "height": 613
        },
        "id": "rV_PW-wCt8Si",
        "outputId": "7c280d37-ab13-4a5d-fd24-c40f69f23dec"
      },
      "source": [
        "y_pred = grid.predict(X_test)\n",
        "  \n",
        "# print classification report\n",
        "print('Accuracy:',accuracy_score(Y_test, y_pred))\n",
        "print(classification_report(Y_test, y_pred))\n",
        "\n",
        "matrix = confusion_matrix(Y_test, y_pred)\n",
        "print(matrix)\n",
        "plt.figure(figsize=(7,7))\n",
        "sns.heatmap(matrix,annot=True, square = True, fmt='g')\n",
        "plt.show()"
      ],
      "execution_count": 26,
      "outputs": [
        {
          "output_type": "stream",
          "text": [
            "Accuracy: 0.9709285915890489\n",
            "              precision    recall  f1-score   support\n",
            "\n",
            "           0       0.97      1.00      0.99      3425\n",
            "           1       0.67      0.25      0.36       118\n",
            "\n",
            "    accuracy                           0.97      3543\n",
            "   macro avg       0.82      0.62      0.67      3543\n",
            "weighted avg       0.96      0.97      0.96      3543\n",
            "\n",
            "[[3411   14]\n",
            " [  89   29]]\n"
          ],
          "name": "stdout"
        },
        {
          "output_type": "display_data",
          "data": {
            "image/png": "[encoded data removed]",
            "text/plain": [
              "<Figure size 504x504 with 2 Axes>"
            ]
          },
          "metadata": {
            "tags": [],
            "needs_background": "light"
          }
        }
      ]
    },
    {
      "cell_type": "code",
      "metadata": {
        "id": "pp3JmLcwt8YX"
      },
      "source": [
        ""
      ],
      "execution_count": 26,
      "outputs": []
    },
    {
      "cell_type": "markdown",
      "metadata": {
        "id": "QNRAMpTQDlrL"
      },
      "source": [
        "## Neural Network"
      ]
    },
    {
      "cell_type": "code",
      "metadata": {
        "colab": {
          "base_uri": "https://localhost:8080/"
        },
        "id": "Bu3DHQ18b5XL",
        "outputId": "9bd68255-3e7e-47e8-99a9-1554e6e4f1c2"
      },
      "source": [
        "neg, pos = np.bincount(df_ok['B8.1'])\n",
        "total = neg + pos\n",
        "print('Examples:\\n    Total: {}\\n    Positive: {} ({:.2f}% of total)\\n'.format(\n",
        "    total, pos, 100 * pos / total))"
      ],
      "execution_count": 27,
      "outputs": [
        {
          "output_type": "stream",
          "text": [
            "Examples:\n",
            "    Total: 17714\n",
            "    Positive: 627 (3.54% of total)\n",
            "\n"
          ],
          "name": "stdout"
        }
      ]
    },
    {
      "cell_type": "code",
      "metadata": {
        "colab": {
          "base_uri": "https://localhost:8080/"
        },
        "id": "9UNtBaBUb5gb",
        "outputId": "b42d601e-3c23-41fd-a28a-d4a6777f655f"
      },
      "source": [
        "weight_for_0 = (1 / neg) * (total / 2.0)\n",
        "weight_for_1 = (1 / pos) * (total / 2.0)\n",
        "\n",
        "class_weight = {0: weight_for_0, 1: weight_for_1}\n",
        "\n",
        "print('Weight for class 0: {:.2f}'.format(weight_for_0))\n",
        "print('Weight for class 1: {:.2f}'.format(weight_for_1))"
      ],
      "execution_count": 28,
      "outputs": [
        {
          "output_type": "stream",
          "text": [
            "Weight for class 0: 0.52\n",
            "Weight for class 1: 14.13\n"
          ],
          "name": "stdout"
        }
      ]
    },
    {
      "cell_type": "code",
      "metadata": {
        "id": "8iH1bMpvDsge"
      },
      "source": [
        "def baseline_model():\n",
        "  model = Sequential()\n",
        "  model.add(Dense(2000, input_dim=X_train.shape[1], activation='relu'))\n",
        "  model.add(BatchNormalization())\n",
        "  model.add(Dropout(0.3))\n",
        "  model.add(Dense(1024, activation='relu'))\n",
        "  model.add(Dropout(0.4))\n",
        "  model.add(Dense(512, activation='relu'))\n",
        "  model.add(Dropout(0.5))\n",
        "  model.add(Dense(256, activation='relu'))\n",
        "  model.add(Dropout(0.5))\n",
        "  model.add(Dense(128, activation='relu'))\n",
        "  model.add(Dropout(0.5))\n",
        "  model.add(Dense(64, activation='relu')),\n",
        "  model.add(Dropout(0.5)),\n",
        "  model.add(Dense(1, activation='sigmoid'))\n",
        "  # Compile model\n",
        "  model.compile(loss='binary_crossentropy', optimizer='adam', metrics=['binary_accuracy'])\n",
        "  return model"
      ],
      "execution_count": 29,
      "outputs": []
    },
    {
      "cell_type": "code",
      "metadata": {
        "colab": {
          "base_uri": "https://localhost:8080/"
        },
        "id": "oXN84vijXWI-",
        "outputId": "bcb9428b-0bdb-428a-fbca-e61cdeff14e8"
      },
      "source": [
        "model = baseline_model()\n",
        "\n",
        "history = model.fit(\n",
        "  X_train, Y_train, batch_size = 512,\n",
        "  epochs=50, validation_split = 0.1,\n",
        "  class_weight=class_weight)"
      ],
      "execution_count": 34,
      "outputs": [
        {
          "output_type": "stream",
          "text": [
            "Epoch 1/50\n",
            "25/25 [==============================] - 2s 22ms/step - loss: 1.0198 - binary_accuracy: 0.5849 - val_loss: 0.6965 - val_binary_accuracy: 0.0712\n",
            "Epoch 2/50\n",
            "25/25 [==============================] - 0s 6ms/step - loss: 0.8983 - binary_accuracy: 0.6032 - val_loss: 0.6893 - val_binary_accuracy: 0.9535\n",
            "Epoch 3/50\n",
            "25/25 [==============================] - 0s 6ms/step - loss: 0.6884 - binary_accuracy: 0.6181 - val_loss: 0.6794 - val_binary_accuracy: 0.9669\n",
            "Epoch 4/50\n",
            "25/25 [==============================] - 0s 6ms/step - loss: 0.6695 - binary_accuracy: 0.7034 - val_loss: 0.6765 - val_binary_accuracy: 0.9591\n",
            "Epoch 5/50\n",
            "25/25 [==============================] - 0s 6ms/step - loss: 0.6309 - binary_accuracy: 0.7136 - val_loss: 0.6679 - val_binary_accuracy: 0.9669\n",
            "Epoch 6/50\n",
            "25/25 [==============================] - 0s 6ms/step - loss: 0.6147 - binary_accuracy: 0.7145 - val_loss: 0.6602 - val_binary_accuracy: 0.9661\n",
            "Epoch 7/50\n",
            "25/25 [==============================] - 0s 6ms/step - loss: 0.6020 - binary_accuracy: 0.7880 - val_loss: 0.6557 - val_binary_accuracy: 0.9669\n",
            "Epoch 8/50\n",
            "25/25 [==============================] - 0s 6ms/step - loss: 0.6039 - binary_accuracy: 0.7937 - val_loss: 0.6532 - val_binary_accuracy: 0.9669\n",
            "Epoch 9/50\n",
            "25/25 [==============================] - 0s 6ms/step - loss: 0.5846 - binary_accuracy: 0.8064 - val_loss: 0.6492 - val_binary_accuracy: 0.9669\n",
            "Epoch 10/50\n",
            "25/25 [==============================] - 0s 6ms/step - loss: 0.6074 - binary_accuracy: 0.8204 - val_loss: 0.6489 - val_binary_accuracy: 0.9661\n",
            "Epoch 11/50\n",
            "25/25 [==============================] - 0s 6ms/step - loss: 0.5896 - binary_accuracy: 0.8067 - val_loss: 0.6361 - val_binary_accuracy: 0.9654\n",
            "Epoch 12/50\n",
            "25/25 [==============================] - 0s 6ms/step - loss: 0.5769 - binary_accuracy: 0.8371 - val_loss: 0.6376 - val_binary_accuracy: 0.9676\n",
            "Epoch 13/50\n",
            "25/25 [==============================] - 0s 6ms/step - loss: 0.5685 - binary_accuracy: 0.8180 - val_loss: 0.6313 - val_binary_accuracy: 0.9633\n",
            "Epoch 14/50\n",
            "25/25 [==============================] - 0s 6ms/step - loss: 0.5409 - binary_accuracy: 0.8504 - val_loss: 0.6206 - val_binary_accuracy: 0.9647\n",
            "Epoch 15/50\n",
            "25/25 [==============================] - 0s 6ms/step - loss: 0.5988 - binary_accuracy: 0.8334 - val_loss: 0.6113 - val_binary_accuracy: 0.9647\n",
            "Epoch 16/50\n",
            "25/25 [==============================] - 0s 6ms/step - loss: 0.5512 - binary_accuracy: 0.8537 - val_loss: 0.5904 - val_binary_accuracy: 0.9647\n",
            "Epoch 17/50\n",
            "25/25 [==============================] - 0s 6ms/step - loss: 0.5734 - binary_accuracy: 0.8636 - val_loss: 0.6023 - val_binary_accuracy: 0.9619\n",
            "Epoch 18/50\n",
            "25/25 [==============================] - 0s 6ms/step - loss: 0.5542 - binary_accuracy: 0.8479 - val_loss: 0.5770 - val_binary_accuracy: 0.9598\n",
            "Epoch 19/50\n",
            "25/25 [==============================] - 0s 7ms/step - loss: 0.5658 - binary_accuracy: 0.8662 - val_loss: 0.5814 - val_binary_accuracy: 0.9605\n",
            "Epoch 20/50\n",
            "25/25 [==============================] - 0s 6ms/step - loss: 0.5406 - binary_accuracy: 0.8785 - val_loss: 0.5615 - val_binary_accuracy: 0.9436\n",
            "Epoch 21/50\n",
            "25/25 [==============================] - 0s 6ms/step - loss: 0.5385 - binary_accuracy: 0.8709 - val_loss: 0.5872 - val_binary_accuracy: 0.9394\n",
            "Epoch 22/50\n",
            "25/25 [==============================] - 0s 6ms/step - loss: 0.5563 - binary_accuracy: 0.8634 - val_loss: 0.5713 - val_binary_accuracy: 0.9450\n",
            "Epoch 23/50\n",
            "25/25 [==============================] - 0s 6ms/step - loss: 0.5417 - binary_accuracy: 0.8851 - val_loss: 0.5437 - val_binary_accuracy: 0.9344\n",
            "Epoch 24/50\n",
            "25/25 [==============================] - 0s 6ms/step - loss: 0.5147 - binary_accuracy: 0.8900 - val_loss: 0.5712 - val_binary_accuracy: 0.9090\n",
            "Epoch 25/50\n",
            "25/25 [==============================] - 0s 6ms/step - loss: 0.5592 - binary_accuracy: 0.8560 - val_loss: 0.5644 - val_binary_accuracy: 0.9316\n",
            "Epoch 26/50\n",
            "25/25 [==============================] - 0s 6ms/step - loss: 0.5651 - binary_accuracy: 0.8582 - val_loss: 0.5332 - val_binary_accuracy: 0.9386\n",
            "Epoch 27/50\n",
            "25/25 [==============================] - 0s 6ms/step - loss: 0.5380 - binary_accuracy: 0.8866 - val_loss: 0.5196 - val_binary_accuracy: 0.9203\n",
            "Epoch 28/50\n",
            "25/25 [==============================] - 0s 6ms/step - loss: 0.5519 - binary_accuracy: 0.8790 - val_loss: 0.5443 - val_binary_accuracy: 0.9161\n",
            "Epoch 29/50\n",
            "25/25 [==============================] - 0s 6ms/step - loss: 0.5331 - binary_accuracy: 0.8761 - val_loss: 0.5171 - val_binary_accuracy: 0.9386\n",
            "Epoch 30/50\n",
            "25/25 [==============================] - 0s 6ms/step - loss: 0.5199 - binary_accuracy: 0.9001 - val_loss: 0.5244 - val_binary_accuracy: 0.9252\n",
            "Epoch 31/50\n",
            "25/25 [==============================] - 0s 6ms/step - loss: 0.5221 - binary_accuracy: 0.8830 - val_loss: 0.5128 - val_binary_accuracy: 0.9288\n",
            "Epoch 32/50\n",
            "25/25 [==============================] - 0s 6ms/step - loss: 0.5315 - binary_accuracy: 0.9003 - val_loss: 0.5582 - val_binary_accuracy: 0.9069\n",
            "Epoch 33/50\n",
            "25/25 [==============================] - 0s 6ms/step - loss: 0.5328 - binary_accuracy: 0.8821 - val_loss: 0.5267 - val_binary_accuracy: 0.9182\n",
            "Epoch 34/50\n",
            "25/25 [==============================] - 0s 6ms/step - loss: 0.4989 - binary_accuracy: 0.8886 - val_loss: 0.4886 - val_binary_accuracy: 0.9316\n",
            "Epoch 35/50\n",
            "25/25 [==============================] - 0s 6ms/step - loss: 0.5334 - binary_accuracy: 0.8813 - val_loss: 0.5107 - val_binary_accuracy: 0.9168\n",
            "Epoch 36/50\n",
            "25/25 [==============================] - 0s 6ms/step - loss: 0.5682 - binary_accuracy: 0.8853 - val_loss: 0.5018 - val_binary_accuracy: 0.9267\n",
            "Epoch 37/50\n",
            "25/25 [==============================] - 0s 6ms/step - loss: 0.4998 - binary_accuracy: 0.9002 - val_loss: 0.5228 - val_binary_accuracy: 0.9210\n",
            "Epoch 38/50\n",
            "25/25 [==============================] - 0s 6ms/step - loss: 0.5285 - binary_accuracy: 0.8876 - val_loss: 0.4754 - val_binary_accuracy: 0.9415\n",
            "Epoch 39/50\n",
            "25/25 [==============================] - 0s 7ms/step - loss: 0.5259 - binary_accuracy: 0.9156 - val_loss: 0.4907 - val_binary_accuracy: 0.9224\n",
            "Epoch 40/50\n",
            "25/25 [==============================] - 0s 6ms/step - loss: 0.4890 - binary_accuracy: 0.9129 - val_loss: 0.4920 - val_binary_accuracy: 0.9161\n",
            "Epoch 41/50\n",
            "25/25 [==============================] - 0s 6ms/step - loss: 0.5152 - binary_accuracy: 0.8847 - val_loss: 0.4700 - val_binary_accuracy: 0.9182\n",
            "Epoch 42/50\n",
            "25/25 [==============================] - 0s 6ms/step - loss: 0.5258 - binary_accuracy: 0.9059 - val_loss: 0.5083 - val_binary_accuracy: 0.9217\n",
            "Epoch 43/50\n",
            "25/25 [==============================] - 0s 6ms/step - loss: 0.4969 - binary_accuracy: 0.9068 - val_loss: 0.4887 - val_binary_accuracy: 0.9161\n",
            "Epoch 44/50\n",
            "25/25 [==============================] - 0s 6ms/step - loss: 0.5403 - binary_accuracy: 0.9084 - val_loss: 0.4982 - val_binary_accuracy: 0.9126\n",
            "Epoch 45/50\n",
            "25/25 [==============================] - 0s 6ms/step - loss: 0.5152 - binary_accuracy: 0.8994 - val_loss: 0.4726 - val_binary_accuracy: 0.9309\n",
            "Epoch 46/50\n",
            "25/25 [==============================] - 0s 6ms/step - loss: 0.5359 - binary_accuracy: 0.9083 - val_loss: 0.4877 - val_binary_accuracy: 0.9267\n",
            "Epoch 47/50\n",
            "25/25 [==============================] - 0s 6ms/step - loss: 0.4808 - binary_accuracy: 0.9059 - val_loss: 0.5019 - val_binary_accuracy: 0.9097\n",
            "Epoch 48/50\n",
            "25/25 [==============================] - 0s 6ms/step - loss: 0.5410 - binary_accuracy: 0.8958 - val_loss: 0.5013 - val_binary_accuracy: 0.9182\n",
            "Epoch 49/50\n",
            "25/25 [==============================] - 0s 6ms/step - loss: 0.4999 - binary_accuracy: 0.9053 - val_loss: 0.4862 - val_binary_accuracy: 0.9189\n",
            "Epoch 50/50\n",
            "25/25 [==============================] - 0s 6ms/step - loss: 0.5039 - binary_accuracy: 0.9050 - val_loss: 0.4744 - val_binary_accuracy: 0.9231\n"
          ],
          "name": "stdout"
        }
      ]
    },
    {
      "cell_type": "code",
      "metadata": {
        "colab": {
          "base_uri": "https://localhost:8080/",
          "height": 545
        },
        "id": "9_BNE5S2XWK0",
        "outputId": "cde38d81-3de5-4a84-ba58-738c252d58b9"
      },
      "source": [
        "acc = history.history['binary_accuracy']\n",
        "val_acc = history.history['val_binary_accuracy'] \n",
        "loss = history.history['loss'] \n",
        "val_loss = history.history['val_loss']\n",
        "epochs = range(1, len(acc) + 1)\n",
        "plt.plot(epochs, acc, 'bo', label='Training acc') \n",
        "plt.plot(epochs, val_acc, 'b', label='Validation acc') \n",
        "plt.title('Training and validation accuracy') \n",
        "plt.legend()\n",
        "plt.figure()\n",
        "plt.plot(epochs, loss, 'bo', label='Training loss') \n",
        "plt.plot(epochs, val_loss, 'b', label='Validation loss') \n",
        "plt.title('Training and validation loss')\n",
        "plt.legend()\n",
        "plt.show()"
      ],
      "execution_count": 35,
      "outputs": [
        {
          "output_type": "display_data",
          "data": {
            "image/png": "[encoded data removed]",
            "text/plain": [
              "<Figure size 432x288 with 1 Axes>"
            ]
          },
          "metadata": {
            "tags": [],
            "needs_background": "light"
          }
        },
        {
          "output_type": "display_data",
          "data": {
            "image/png": "[encoded data removed]",
            "text/plain": [
              "<Figure size 432x288 with 1 Axes>"
            ]
          },
          "metadata": {
            "tags": [],
            "needs_background": "light"
          }
        }
      ]
    },
    {
      "cell_type": "code",
      "metadata": {
        "colab": {
          "base_uri": "https://localhost:8080/",
          "height": 545
        },
        "id": "FeuGrPSTYO0P",
        "outputId": "6b4e10b8-0525-439b-f655-8a753b9ff08c"
      },
      "source": [
        "def smooth_curve(points, factor=0.8): \n",
        "  smoothed_points = []\n",
        "  for point in points:\n",
        "      if smoothed_points:\n",
        "          previous = smoothed_points[-1]\n",
        "          smoothed_points.append(previous * factor + point * (1 - factor))\n",
        "      else: \n",
        "          smoothed_points.append(point)\n",
        "  return smoothed_points\n",
        "plt.plot(epochs,\n",
        "         smooth_curve(acc), 'bo', label='Smoothed training acc')\n",
        "plt.plot(epochs,\n",
        "         smooth_curve(val_acc), 'b', label='Smoothed validation acc')\n",
        "plt.title('Training and validation accuracy') \n",
        "plt.legend()\n",
        "plt.figure()\n",
        "plt.plot(epochs,\n",
        "         smooth_curve(loss), 'bo', label='Smoothed training loss')\n",
        "plt.plot(epochs,\n",
        "         smooth_curve(val_loss), 'b', label='Smoothed validation loss')\n",
        "plt.title('Training and validation loss') \n",
        "plt.legend()\n",
        "plt.show()"
      ],
      "execution_count": 36,
      "outputs": [
        {
          "output_type": "display_data",
          "data": {
            "image/png": "[encoded data removed]",
            "text/plain": [
              "<Figure size 432x288 with 1 Axes>"
            ]
          },
          "metadata": {
            "tags": [],
            "needs_background": "light"
          }
        },
        {
          "output_type": "display_data",
          "data": {
            "image/png": "[encoded data removed]",
            "text/plain": [
              "<Figure size 432x288 with 1 Axes>"
            ]
          },
          "metadata": {
            "tags": [],
            "needs_background": "light"
          }
        }
      ]
    },
    {
      "cell_type": "code",
      "metadata": {
        "colab": {
          "base_uri": "https://localhost:8080/"
        },
        "id": "Af-9otp6XWOG",
        "outputId": "bfedddae-f7df-43b2-e090-430aebe42a35"
      },
      "source": [
        "model.evaluate(X_test, Y_test)"
      ],
      "execution_count": 37,
      "outputs": [
        {
          "output_type": "stream",
          "text": [
            "111/111 [==============================] - 0s 2ms/step - loss: 0.4687 - binary_accuracy: 0.9294\n"
          ],
          "name": "stdout"
        },
        {
          "output_type": "execute_result",
          "data": {
            "text/plain": [
              "[0.46873316168785095, 0.9294383525848389]"
            ]
          },
          "metadata": {
            "tags": []
          },
          "execution_count": 37
        }
      ]
    },
    {
      "cell_type": "code",
      "metadata": {
        "colab": {
          "base_uri": "https://localhost:8080/",
          "height": 450
        },
        "id": "GCYvDdiJXWRb",
        "outputId": "d207f9e8-febc-4d22-c7b0-feb6e185ab76"
      },
      "source": [
        "y_pred = model.predict(X_test)\n",
        "matrix = confusion_matrix(Y_test, y_pred.argmax(axis=1))\n",
        "print(matrix)\n",
        "plt.figure(figsize=(7,7))\n",
        "sns.heatmap(matrix,annot=True, square = True, fmt='g')\n",
        "plt.show()"
      ],
      "execution_count": 38,
      "outputs": [
        {
          "output_type": "stream",
          "text": [
            "[[3425    0]\n",
            " [ 118    0]]\n"
          ],
          "name": "stdout"
        },
        {
          "output_type": "display_data",
          "data": {
            "image/png": "[encoded data removed]",
            "text/plain": [
              "<Figure size 504x504 with 2 Axes>"
            ]
          },
          "metadata": {
            "tags": [],
            "needs_background": "light"
          }
        }
      ]
    },
    {
      "cell_type": "code",
      "metadata": {
        "id": "DKO-CX51YUA9"
      },
      "source": [
        ""
      ],
      "execution_count": null,
      "outputs": []
    }
  ]
}