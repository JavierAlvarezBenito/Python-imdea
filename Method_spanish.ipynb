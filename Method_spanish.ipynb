{
 "cells": [
  {
   "cell_type": "code",
   "execution_count": 1,
   "metadata": {},
   "outputs": [],
   "source": [
    "import lightgbm as lgb\n",
    "import numpy as np\n",
    "import matplotlib.pyplot as plt\n",
    "import pandas as pd\n",
    "import seaborn as sns\n",
    "from sklearn.model_selection import train_test_split\n",
    "from sklearn.metrics import plot_confusion_matrix\n",
    "from sklearn.metrics import confusion_matrix\n",
    "from sklearn.metrics import accuracy_score\n",
    "import os\n",
    "import pathlib\n",
    "\n",
    "import scipy.stats as ss\n",
    "import sklearn\n",
    "from sklearn.model_selection import train_test_split, cross_val_score\n",
    "from sklearn.linear_model import LogisticRegression\n",
    "from sklearn.ensemble import RandomForestClassifier\n",
    "from sklearn.svm import SVC\n",
    "from sklearn import linear_model\n",
    "from sklearn import model_selection\n",
    "from sklearn.metrics import classification_report\n",
    "from sklearn.metrics import precision_score\n",
    "from sklearn.neighbors import KNeighborsClassifier\n",
    "from sklearn.model_selection import learning_curve, GridSearchCV\n",
    "from sklearn.pipeline import Pipeline\n",
    "from sklearn import preprocessing\n",
    "from sklearn import tree\n",
    "from sklearn.naive_bayes import GaussianNB\n",
    "#from mlxtend.plotting import plot_learning_curves\n",
    "from sklearn.tree import export_graphviz\n",
    "from six import StringIO\n",
    "from IPython.display import Image  \n",
    "import pydotplus\n",
    "from sklearn.model_selection import validation_curve\n",
    "from sklearn.model_selection import KFold\n",
    "from sklearn.metrics import precision_recall_curve\n",
    "from sklearn.metrics import plot_precision_recall_curve\n",
    "from sklearn.metrics import accuracy_score, confusion_matrix,roc_curve, roc_auc_score, precision_score, recall_score, precision_recall_curve\n",
    "from sklearn.metrics import f1_score"
   ]
  },
  {
   "cell_type": "markdown",
   "metadata": {},
   "source": [
    "## Our dataframe"
   ]
  },
  {
   "cell_type": "code",
   "execution_count": 2,
   "metadata": {},
   "outputs": [
    {
     "name": "stderr",
     "output_type": "stream",
     "text": [
      "C:\\Users\\01jav\\.conda\\envs\\JAVIER\\lib\\site-packages\\IPython\\core\\interactiveshell.py:3169: DtypeWarning: Columns (2) have mixed types.Specify dtype option on import or set low_memory=False.\n",
      "  has_raised = await self.run_ast_nodes(code_ast.body, cell_name,\n"
     ]
    }
   ],
   "source": [
    "df = pd.read_csv('ES.csv')"
   ]
  },
  {
   "cell_type": "code",
   "execution_count": 3,
   "metadata": {},
   "outputs": [
    {
     "data": {
      "text/plain": [
       "(630020, 164)"
      ]
     },
     "execution_count": 3,
     "metadata": {},
     "output_type": "execute_result"
    }
   ],
   "source": [
    "df.shape"
   ]
  },
  {
   "cell_type": "markdown",
   "metadata": {},
   "source": [
    "## Filtering our dataframe"
   ]
  },
  {
   "cell_type": "code",
   "execution_count": 4,
   "metadata": {},
   "outputs": [],
   "source": [
    "df1 = df[df['B7.1']==1]\n",
    "df2 = df1[df1['B8.NA']==0]\n",
    "df_filter = df2[df2['B8.3']==0]"
   ]
  },
  {
   "cell_type": "code",
   "execution_count": 5,
   "metadata": {},
   "outputs": [
    {
     "data": {
      "text/plain": [
       "(73205, 164)"
      ]
     },
     "execution_count": 5,
     "metadata": {},
     "output_type": "execute_result"
    }
   ],
   "source": [
    "df_filter.shape"
   ]
  },
  {
   "cell_type": "code",
   "execution_count": 6,
   "metadata": {},
   "outputs": [
    {
     "data": {
      "text/html": [
       "<div>\n",
       "<style scoped>\n",
       "    .dataframe tbody tr th:only-of-type {\n",
       "        vertical-align: middle;\n",
       "    }\n",
       "\n",
       "    .dataframe tbody tr th {\n",
       "        vertical-align: top;\n",
       "    }\n",
       "\n",
       "    .dataframe thead th {\n",
       "        text-align: right;\n",
       "    }\n",
       "</style>\n",
       "<table border=\"1\" class=\"dataframe\">\n",
       "  <thead>\n",
       "    <tr style=\"text-align: right;\">\n",
       "      <th></th>\n",
       "      <th>weight</th>\n",
       "      <th>Finished</th>\n",
       "      <th>B2</th>\n",
       "      <th>B4</th>\n",
       "      <th>B15_1</th>\n",
       "      <th>B15_2</th>\n",
       "      <th>B15_3</th>\n",
       "      <th>B15_4</th>\n",
       "      <th>B15_5</th>\n",
       "      <th>B15_6</th>\n",
       "      <th>...</th>\n",
       "      <th>E4.3</th>\n",
       "      <th>E4.4</th>\n",
       "      <th>E4.5</th>\n",
       "      <th>E4.6</th>\n",
       "      <th>E4.7</th>\n",
       "      <th>E4.NA</th>\n",
       "      <th>E2.1</th>\n",
       "      <th>E2.2</th>\n",
       "      <th>E2.3</th>\n",
       "      <th>E2.NA</th>\n",
       "    </tr>\n",
       "  </thead>\n",
       "  <tbody>\n",
       "    <tr>\n",
       "      <th>28</th>\n",
       "      <td>4850.905645</td>\n",
       "      <td>1</td>\n",
       "      <td>2.0</td>\n",
       "      <td>NaN</td>\n",
       "      <td>NaN</td>\n",
       "      <td>NaN</td>\n",
       "      <td>NaN</td>\n",
       "      <td>NaN</td>\n",
       "      <td>NaN</td>\n",
       "      <td>NaN</td>\n",
       "      <td>...</td>\n",
       "      <td>0</td>\n",
       "      <td>0</td>\n",
       "      <td>0</td>\n",
       "      <td>0</td>\n",
       "      <td>0</td>\n",
       "      <td>0</td>\n",
       "      <td>0</td>\n",
       "      <td>1</td>\n",
       "      <td>0</td>\n",
       "      <td>0</td>\n",
       "    </tr>\n",
       "    <tr>\n",
       "      <th>35</th>\n",
       "      <td>23556.169863</td>\n",
       "      <td>1</td>\n",
       "      <td>7.0</td>\n",
       "      <td>7.0</td>\n",
       "      <td>NaN</td>\n",
       "      <td>NaN</td>\n",
       "      <td>NaN</td>\n",
       "      <td>NaN</td>\n",
       "      <td>NaN</td>\n",
       "      <td>NaN</td>\n",
       "      <td>...</td>\n",
       "      <td>0</td>\n",
       "      <td>0</td>\n",
       "      <td>0</td>\n",
       "      <td>0</td>\n",
       "      <td>0</td>\n",
       "      <td>0</td>\n",
       "      <td>1</td>\n",
       "      <td>0</td>\n",
       "      <td>0</td>\n",
       "      <td>0</td>\n",
       "    </tr>\n",
       "    <tr>\n",
       "      <th>74</th>\n",
       "      <td>14313.592407</td>\n",
       "      <td>1</td>\n",
       "      <td>NaN</td>\n",
       "      <td>NaN</td>\n",
       "      <td>NaN</td>\n",
       "      <td>NaN</td>\n",
       "      <td>NaN</td>\n",
       "      <td>NaN</td>\n",
       "      <td>NaN</td>\n",
       "      <td>NaN</td>\n",
       "      <td>...</td>\n",
       "      <td>1</td>\n",
       "      <td>0</td>\n",
       "      <td>0</td>\n",
       "      <td>0</td>\n",
       "      <td>0</td>\n",
       "      <td>0</td>\n",
       "      <td>0</td>\n",
       "      <td>1</td>\n",
       "      <td>0</td>\n",
       "      <td>0</td>\n",
       "    </tr>\n",
       "    <tr>\n",
       "      <th>92</th>\n",
       "      <td>4777.753845</td>\n",
       "      <td>1</td>\n",
       "      <td>NaN</td>\n",
       "      <td>NaN</td>\n",
       "      <td>NaN</td>\n",
       "      <td>NaN</td>\n",
       "      <td>NaN</td>\n",
       "      <td>NaN</td>\n",
       "      <td>NaN</td>\n",
       "      <td>NaN</td>\n",
       "      <td>...</td>\n",
       "      <td>1</td>\n",
       "      <td>0</td>\n",
       "      <td>0</td>\n",
       "      <td>0</td>\n",
       "      <td>0</td>\n",
       "      <td>0</td>\n",
       "      <td>1</td>\n",
       "      <td>0</td>\n",
       "      <td>0</td>\n",
       "      <td>0</td>\n",
       "    </tr>\n",
       "    <tr>\n",
       "      <th>93</th>\n",
       "      <td>5297.011001</td>\n",
       "      <td>1</td>\n",
       "      <td>NaN</td>\n",
       "      <td>NaN</td>\n",
       "      <td>NaN</td>\n",
       "      <td>NaN</td>\n",
       "      <td>NaN</td>\n",
       "      <td>NaN</td>\n",
       "      <td>NaN</td>\n",
       "      <td>NaN</td>\n",
       "      <td>...</td>\n",
       "      <td>0</td>\n",
       "      <td>0</td>\n",
       "      <td>0</td>\n",
       "      <td>0</td>\n",
       "      <td>0</td>\n",
       "      <td>0</td>\n",
       "      <td>1</td>\n",
       "      <td>0</td>\n",
       "      <td>0</td>\n",
       "      <td>0</td>\n",
       "    </tr>\n",
       "  </tbody>\n",
       "</table>\n",
       "<p>5 rows × 164 columns</p>\n",
       "</div>"
      ],
      "text/plain": [
       "          weight  Finished   B2   B4  B15_1  B15_2  B15_3  B15_4  B15_5  \\\n",
       "28   4850.905645         1  2.0  NaN    NaN    NaN    NaN    NaN    NaN   \n",
       "35  23556.169863         1  7.0  7.0    NaN    NaN    NaN    NaN    NaN   \n",
       "74  14313.592407         1  NaN  NaN    NaN    NaN    NaN    NaN    NaN   \n",
       "92   4777.753845         1  NaN  NaN    NaN    NaN    NaN    NaN    NaN   \n",
       "93   5297.011001         1  NaN  NaN    NaN    NaN    NaN    NaN    NaN   \n",
       "\n",
       "    B15_6  ...  E4.3  E4.4 E4.5 E4.6 E4.7 E4.NA E2.1 E2.2 E2.3  E2.NA  \n",
       "28    NaN  ...     0     0    0    0    0     0    0    1    0      0  \n",
       "35    NaN  ...     0     0    0    0    0     0    1    0    0      0  \n",
       "74    NaN  ...     1     0    0    0    0     0    0    1    0      0  \n",
       "92    NaN  ...     1     0    0    0    0     0    1    0    0      0  \n",
       "93    NaN  ...     0     0    0    0    0     0    1    0    0      0  \n",
       "\n",
       "[5 rows x 164 columns]"
      ]
     },
     "execution_count": 6,
     "metadata": {},
     "output_type": "execute_result"
    }
   ],
   "source": [
    "df_filter.head()"
   ]
  },
  {
   "cell_type": "markdown",
   "metadata": {},
   "source": [
    "## Creating additional columns"
   ]
  },
  {
   "cell_type": "code",
   "execution_count": 18,
   "metadata": {},
   "outputs": [
    {
     "name": "stderr",
     "output_type": "stream",
     "text": [
      "<ipython-input-18-1c1f7ad1e78a>:6: SettingWithCopyWarning: \n",
      "A value is trying to be set on a copy of a slice from a DataFrame.\n",
      "Try using .loc[row_indexer,col_indexer] = value instead\n",
      "\n",
      "See the caveats in the documentation: https://pandas.pydata.org/pandas-docs/stable/user_guide/indexing.html#returning-a-view-versus-a-copy\n",
      "  df_filter['risk']=list_risk\n"
     ]
    }
   ],
   "source": [
    "list_risk = []\n",
    "for i in range(len(df_filter.index)):\n",
    "    risk= 1*df_filter['B1_4.1'][df_filter.index[i]] + 2*df_filter['B1_1.1'][df_filter.index[i]] + 5*df_filter['B1_10.1'][df_filter.index[i]]\n",
    "    list_risk.append(risk)\n",
    "\n",
    "df_filter['risk']=list_risk"
   ]
  },
  {
   "cell_type": "code",
   "execution_count": 22,
   "metadata": {},
   "outputs": [
    {
     "name": "stderr",
     "output_type": "stream",
     "text": [
      "<ipython-input-22-80b1b7d93590>:7: SettingWithCopyWarning: \n",
      "A value is trying to be set on a copy of a slice from a DataFrame.\n",
      "Try using .loc[row_indexer,col_indexer] = value instead\n",
      "\n",
      "See the caveats in the documentation: https://pandas.pydata.org/pandas-docs/stable/user_guide/indexing.html#returning-a-view-versus-a-copy\n",
      "  df_filter['sum_sym']=list_sum_sym\n"
     ]
    }
   ],
   "source": [
    "list_sum_sym=[]\n",
    "\n",
    "for i in range(len(df_filter.index)):\n",
    "    sum_sym= np.sum(df_filter['B1_4.1'][df_filter.index[i]]+df_filter['B1_10.1'][df_filter.index[i]]+df_filter['B1_3.1'][df_filter.index[i]]+df_filter['B1_13.1'][df_filter.index[i]]+df_filter['B1_1.1'][df_filter.index[i]]+df_filter['B1_7.1'][df_filter.index[i]]+df_filter['B1_2.1'][df_filter.index[i]]+df_filter['B1_12.1'][df_filter.index[i]])\n",
    "    list_sum_sym.append(sum_sym)\n",
    "\n",
    "df_filter['sum_sym']=list_sum_sym"
   ]
  },
  {
   "cell_type": "code",
   "execution_count": 32,
   "metadata": {},
   "outputs": [
    {
     "name": "stderr",
     "output_type": "stream",
     "text": [
      "<ipython-input-32-5a328a219f82>:9: SettingWithCopyWarning: \n",
      "A value is trying to be set on a copy of a slice from a DataFrame.\n",
      "Try using .loc[row_indexer,col_indexer] = value instead\n",
      "\n",
      "See the caveats in the documentation: https://pandas.pydata.org/pandas-docs/stable/user_guide/indexing.html#returning-a-view-versus-a-copy\n",
      "  df_filter['spanish_method'] = list_sm\n"
     ]
    }
   ],
   "source": [
    "list_sm = []\n",
    "for i in range(len(df_filter.index)):\n",
    "    \n",
    "    if (df_filter['risk'][df_filter.index[i]]>=3  and df_filter['sum_sym'][df_filter.index[i]]>=3):\n",
    "        list_sm.append(1)\n",
    "    else:\n",
    "        list_sm.append(0)\n",
    "\n",
    "df_filter['spanish_method'] = list_sm"
   ]
  },
  {
   "cell_type": "markdown",
   "metadata": {},
   "source": [
    "## Results. Risk >3 and symptoms >3"
   ]
  },
  {
   "cell_type": "code",
   "execution_count": 33,
   "metadata": {},
   "outputs": [
    {
     "name": "stdout",
     "output_type": "stream",
     "text": [
      "Accuracy Score: 0.9046923024383581\n",
      "Area Under Curve: 0.6750605049797092\n",
      "Recall score: 0.3705555555555556\n",
      "\n",
      "Specificity: 0.9795654544038627\n",
      "F1 score: 0.4887521066901151\n",
      "Precision score: 0.7176673122444588\n",
      "[[62893  1312]\n",
      " [ 5665  3335]]\n",
      "\n",
      "              precision    recall  f1-score   support\n",
      "\n",
      "           0       0.92      0.98      0.95     64205\n",
      "           1       0.72      0.37      0.49      9000\n",
      "\n",
      "    accuracy                           0.90     73205\n",
      "   macro avg       0.82      0.68      0.72     73205\n",
      "weighted avg       0.89      0.90      0.89     73205\n",
      "\n"
     ]
    },
    {
     "data": {
      "image/png": "[encoded data removed]",
      "text/plain": [
       "<Figure size 504x504 with 2 Axes>"
      ]
     },
     "metadata": {
      "needs_background": "light"
     },
     "output_type": "display_data"
    }
   ],
   "source": [
    "Y_test = df_filter['B8.1']\n",
    "y_pred = df_filter['spanish_method']\n",
    "\n",
    "print(f'Accuracy Score: {accuracy_score(Y_test,y_pred)}')\n",
    "print(f'Area Under Curve: {roc_auc_score(Y_test, y_pred)}')\n",
    "print(f'Recall score: {recall_score(Y_test,y_pred)}')\n",
    "print(\"\")\n",
    "matrix = confusion_matrix(Y_test, y_pred)\n",
    "tn, fp, fn, tp = confusion_matrix(Y_test, y_pred).ravel()\n",
    "\n",
    "print('Specificity:', tn/(tn+fp))\n",
    "print(f'F1 score: {f1_score(Y_test,y_pred)}')\n",
    "print(f'Precision score: {precision_score(Y_test,y_pred)}')\n",
    "print(matrix)\n",
    "print(\"\")\n",
    "print(classification_report(Y_test, y_pred))\n",
    "plt.figure(figsize=(7,7))\n",
    "sns.heatmap(matrix,annot=True, square = True, fmt='g')\n",
    "plt.show()"
   ]
  },
  {
   "cell_type": "markdown",
   "metadata": {},
   "source": [
    "## Results. Risk > 3 and symptoms >4"
   ]
  },
  {
   "cell_type": "code",
   "execution_count": 34,
   "metadata": {},
   "outputs": [
    {
     "name": "stderr",
     "output_type": "stream",
     "text": [
      "<ipython-input-34-64ac8b42a87d>:9: SettingWithCopyWarning: \n",
      "A value is trying to be set on a copy of a slice from a DataFrame.\n",
      "Try using .loc[row_indexer,col_indexer] = value instead\n",
      "\n",
      "See the caveats in the documentation: https://pandas.pydata.org/pandas-docs/stable/user_guide/indexing.html#returning-a-view-versus-a-copy\n",
      "  df_filter['spanish_method_4'] = list_sm_4\n"
     ]
    }
   ],
   "source": [
    "list_sm_4 = []\n",
    "for i in range(len(df_filter.index)):\n",
    "    \n",
    "    if (df_filter['risk'][df_filter.index[i]]>=3  and df_filter['sum_sym'][df_filter.index[i]]>=4):\n",
    "        list_sm_4.append(1)\n",
    "    else:\n",
    "        list_sm_4.append(0)\n",
    "\n",
    "df_filter['spanish_method_4'] = list_sm_4"
   ]
  },
  {
   "cell_type": "code",
   "execution_count": 35,
   "metadata": {},
   "outputs": [
    {
     "name": "stdout",
     "output_type": "stream",
     "text": [
      "Accuracy Score: 0.900293695785807\n",
      "Area Under Curve: 0.6439398800716455\n",
      "Recall score: 0.304\n",
      "\n",
      "Specificity: 0.983879760143291\n",
      "F1 score: 0.4284707540521494\n",
      "Precision score: 0.7255369928400954\n",
      "[[63170  1035]\n",
      " [ 6264  2736]]\n",
      "\n",
      "              precision    recall  f1-score   support\n",
      "\n",
      "           0       0.91      0.98      0.95     64205\n",
      "           1       0.73      0.30      0.43      9000\n",
      "\n",
      "    accuracy                           0.90     73205\n",
      "   macro avg       0.82      0.64      0.69     73205\n",
      "weighted avg       0.89      0.90      0.88     73205\n",
      "\n"
     ]
    },
    {
     "data": {
      "image/png": "[encoded data removed]",
      "text/plain": [
       "<Figure size 504x504 with 2 Axes>"
      ]
     },
     "metadata": {
      "needs_background": "light"
     },
     "output_type": "display_data"
    }
   ],
   "source": [
    "Y_test = df_filter['B8.1']\n",
    "y_pred = df_filter['spanish_method_4']\n",
    "\n",
    "print(f'Accuracy Score: {accuracy_score(Y_test,y_pred)}')\n",
    "print(f'Area Under Curve: {roc_auc_score(Y_test, y_pred)}')\n",
    "print(f'Recall score: {recall_score(Y_test,y_pred)}')\n",
    "print(\"\")\n",
    "matrix = confusion_matrix(Y_test, y_pred)\n",
    "tn, fp, fn, tp = confusion_matrix(Y_test, y_pred).ravel()\n",
    "\n",
    "print('Specificity:', tn/(tn+fp))\n",
    "print(f'F1 score: {f1_score(Y_test,y_pred)}')\n",
    "print(f'Precision score: {precision_score(Y_test,y_pred)}')\n",
    "print(matrix)\n",
    "print(\"\")\n",
    "print(classification_report(Y_test, y_pred))\n",
    "plt.figure(figsize=(7,7))\n",
    "sns.heatmap(matrix,annot=True, square = True, fmt='g')\n",
    "plt.show()"
   ]
  },
  {
   "cell_type": "code",
   "execution_count": null,
   "metadata": {},
   "outputs": [],
   "source": []
  },
  {
   "cell_type": "markdown",
   "metadata": {},
   "source": [
    "## Spanish_method. Function"
   ]
  },
  {
   "cell_type": "code",
   "execution_count": 38,
   "metadata": {},
   "outputs": [],
   "source": [
    "def warn(*args, **kwargs):\n",
    "    pass\n",
    "import warnings\n",
    "warnings.warn = warn"
   ]
  },
  {
   "cell_type": "code",
   "execution_count": 39,
   "metadata": {},
   "outputs": [],
   "source": [
    "def spanish_method(iso2,sym):\n",
    "    df = pd.read_csv(iso2+'.csv')\n",
    "    df1 = df[df['B7.1']==1]\n",
    "    df2 = df1[df1['B8.NA']==0]\n",
    "    df_filter = df2[df2['B8.3']==0]\n",
    "    \n",
    "    list_risk = []\n",
    "    for i in range(len(df_filter.index)):\n",
    "        risk= 1*df_filter['B1_4.1'][df_filter.index[i]] + 2*df_filter['B1_1.1'][df_filter.index[i]] + 5*df_filter['B1_10.1'][df_filter.index[i]]\n",
    "        list_risk.append(risk)\n",
    "    df_filter['risk']=list_risk\n",
    "    \n",
    "    \n",
    "    list_sum_sym=[]\n",
    "    for i in range(len(df_filter.index)):\n",
    "        sum_sym= np.sum(df_filter['B1_4.1'][df_filter.index[i]]+df_filter['B1_10.1'][df_filter.index[i]]+df_filter['B1_3.1'][df_filter.index[i]]+df_filter['B1_13.1'][df_filter.index[i]]+df_filter['B1_1.1'][df_filter.index[i]]+df_filter['B1_7.1'][df_filter.index[i]]+df_filter['B1_2.1'][df_filter.index[i]]+df_filter['B1_12.1'][df_filter.index[i]])\n",
    "        list_sum_sym.append(sum_sym)\n",
    "    df_filter['sum_sym']=list_sum_sym\n",
    "    \n",
    "\n",
    "    list_sm = []\n",
    "    for i in range(len(df_filter.index)):\n",
    "        if (df_filter['risk'][df_filter.index[i]]>=3  and df_filter['sum_sym'][df_filter.index[i]]>=sym):\n",
    "            list_sm.append(1)\n",
    "        else:\n",
    "            list_sm.append(0)\n",
    "    df_filter['spanish_method'] = list_sm\n",
    "    \n",
    "    Y_test = df_filter['B8.1']\n",
    "    y_pred = df_filter['spanish_method']\n",
    "\n",
    "    print(f'Accuracy Score: {accuracy_score(Y_test,y_pred)}')\n",
    "    print(f'Area Under Curve: {roc_auc_score(Y_test, y_pred)}')\n",
    "    print(f'Recall score: {recall_score(Y_test,y_pred)}')\n",
    "    print(\"\")\n",
    "    matrix = confusion_matrix(Y_test, y_pred)\n",
    "    tn, fp, fn, tp = confusion_matrix(Y_test, y_pred).ravel()\n",
    "\n",
    "    print('Specificity:', tn/(tn+fp))\n",
    "    print(f'F1 score: {f1_score(Y_test,y_pred)}')\n",
    "    print(f'Precision score: {precision_score(Y_test,y_pred)}')\n",
    "    print(matrix)\n",
    "    print(\"\")\n",
    "    print(classification_report(Y_test, y_pred))\n",
    "    plt.figure(figsize=(7,7))\n",
    "    sns.heatmap(matrix,annot=True, square = True, fmt='g')\n",
    "    plt.show()\n",
    "    \n",
    "    \n",
    "    "
   ]
  },
  {
   "cell_type": "code",
   "execution_count": 40,
   "metadata": {},
   "outputs": [
    {
     "name": "stdout",
     "output_type": "stream",
     "text": [
      "Accuracy Score: 0.9046923024383581\n",
      "Area Under Curve: 0.6750605049797092\n",
      "Recall score: 0.3705555555555556\n",
      "\n",
      "Specificity: 0.9795654544038627\n",
      "F1 score: 0.4887521066901151\n",
      "Precision score: 0.7176673122444588\n",
      "[[62893  1312]\n",
      " [ 5665  3335]]\n",
      "\n",
      "              precision    recall  f1-score   support\n",
      "\n",
      "           0       0.92      0.98      0.95     64205\n",
      "           1       0.72      0.37      0.49      9000\n",
      "\n",
      "    accuracy                           0.90     73205\n",
      "   macro avg       0.82      0.68      0.72     73205\n",
      "weighted avg       0.89      0.90      0.89     73205\n",
      "\n"
     ]
    },
    {
     "data": {
      "image/png": "[encoded data removed]",
      "text/plain": [
       "<Figure size 504x504 with 2 Axes>"
      ]
     },
     "metadata": {
      "needs_background": "light"
     },
     "output_type": "display_data"
    }
   ],
   "source": [
    "spanish_method('ES',3)"
   ]
  },
  {
   "cell_type": "code",
   "execution_count": null,
   "metadata": {},
   "outputs": [],
   "source": []
  }
 ],
 "metadata": {
  "kernelspec": {
   "display_name": "Python 3",
   "language": "python",
   "name": "python3"
  },
  "language_info": {
   "codemirror_mode": {
    "name": "ipython",
    "version": 3
   },
   "file_extension": ".py",
   "mimetype": "text/x-python",
   "name": "python",
   "nbconvert_exporter": "python",
   "pygments_lexer": "ipython3",
   "version": "3.9.5"
  }
 },
 "nbformat": 4,
 "nbformat_minor": 4
}
