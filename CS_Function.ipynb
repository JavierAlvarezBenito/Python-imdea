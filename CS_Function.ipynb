{
 "cells": [
  {
   "cell_type": "code",
   "execution_count": 71,
   "metadata": {},
   "outputs": [],
   "source": [
    "# libraries\n",
    "import numpy as np\n",
    "import matplotlib.pyplot as plt\n",
    "import pandas as pd\n",
    "import seaborn as sns\n",
    "from sklearn.model_selection import train_test_split\n",
    "from sklearn.metrics import plot_confusion_matrix\n",
    "from sklearn.metrics import confusion_matrix\n",
    "from sklearn.metrics import accuracy_score\n",
    "import os\n",
    "import pathlib\n",
    "\n",
    "import scipy.stats as ss\n",
    "import sklearn\n",
    "from sklearn.model_selection import train_test_split, cross_val_score\n",
    "from sklearn.linear_model import LogisticRegression\n",
    "from sklearn.ensemble import RandomForestClassifier\n",
    "from sklearn.svm import SVC\n",
    "from sklearn import linear_model\n",
    "from sklearn import model_selection\n",
    "from sklearn.metrics import classification_report\n",
    "from sklearn.metrics import precision_score\n",
    "from sklearn.neighbors import KNeighborsClassifier\n",
    "from sklearn.model_selection import learning_curve, GridSearchCV\n",
    "from sklearn.pipeline import Pipeline\n",
    "from sklearn import preprocessing\n",
    "from sklearn import tree\n",
    "from sklearn.naive_bayes import GaussianNB\n",
    "#from mlxtend.plotting import plot_learning_curves\n",
    "from sklearn.tree import export_graphviz\n",
    "from six import StringIO\n",
    "from IPython.display import Image  \n",
    "import pydotplus\n",
    "from sklearn.model_selection import validation_curve\n",
    "from sklearn.model_selection import KFold\n",
    "from sklearn.metrics import precision_recall_curve\n",
    "from sklearn.metrics import plot_precision_recall_curve\n",
    "from sklearn.metrics import accuracy_score, confusion_matrix,roc_curve, roc_auc_score, precision_score, recall_score, precision_recall_curve\n",
    "from sklearn.metrics import f1_score"
   ]
  },
  {
   "cell_type": "code",
   "execution_count": 72,
   "metadata": {},
   "outputs": [],
   "source": [
    "def filter_data(iso2,number):\n",
    "    df = pd.read_csv(iso2+'_'+str(number)+'.csv')\n",
    "    df1 = df[df['B7.1']==1]\n",
    "    df2 = df1[df1['B8.NA']==0]\n",
    "    df3 = df2[df2['B8.3']==0]\n",
    "    \n",
    "    df3 = df3.assign(Cli=0)\n",
    "    df3 = df3.assign(Cli_who=0)\n",
    "\n",
    "    lista_valor_cli_DE =[]\n",
    "    for i in range(len(df3.index)):\n",
    "        if (df3['B1_1.1'][df3.index[i]] ==1 and (df3['B1_2.1'][df3.index[i]] ==1 or df3['B1_3.1'][df3.index[i]]==1)):\n",
    "            lista_valor_cli_DE.append(1)\n",
    "        else:\n",
    "            lista_valor_cli_DE.append(0)\n",
    "\n",
    "\n",
    "    df3['Cli']=lista_valor_cli_DE\n",
    "\n",
    "\n",
    "    lista_valor_cli_who_DE =[]\n",
    "    for i in range(len(df3.index)):\n",
    "        if (df3['B1_1.1'][df3.index[i]] ==1 and df3['B1_2.1'][df3.index[i]] ==1 and df3['B1_4.1'][df3.index[i]]==1):\n",
    "            lista_valor_cli_who_DE.append(1)\n",
    "        else:\n",
    "            lista_valor_cli_who_DE.append(0)\n",
    "    df3['Cli_who']=lista_valor_cli_who_DE\n",
    "    \n",
    "    return df3 "
   ]
  },
  {
   "cell_type": "code",
   "execution_count": 73,
   "metadata": {},
   "outputs": [],
   "source": [
    "def data_cross_validation(iso2,list_join):\n",
    "    df_cv = pd.concat([filter_data(iso2,list_join[0]), filter_data(iso2,list_join[1])], axis=0)\n",
    "    df_cv = pd.concat([df_cv, filter_data(iso2,list_join[2])], axis=0)\n",
    "    df_cv = pd.concat([df_cv, filter_data(iso2,list_join[3])], axis=0)\n",
    "    \n",
    "    return df_cv"
   ]
  },
  {
   "cell_type": "code",
   "execution_count": 74,
   "metadata": {},
   "outputs": [],
   "source": [
    "def preprocessing_cv(iso2,list_join):\n",
    "    df = data_cross_validation(iso2,list_join)\n",
    "    \n",
    "    X_train = df.drop(['Unnamed: 0','B2','B4','E5','B8.1','B8.2','B8.3','B8.NA','B7.1','B7.2','B7.NA','weight', 'Finished', 'RecordedDate','ISO_3', 'country_agg', 'region_agg','date_from_file', 'date', 'ISO2', 'age','B1_1.NA','B1_2.NA','B1_3.NA','B1_4.NA','B1_5.NA','B1_6.NA','B1_7.NA','B1_8.NA','B1_9.NA','B1_10.NA','B1_11.NA','B1_12.NA','B3.NA','B5.NA','B6.NA','B7.NA','B8.NA','B7.1','B7.2','B8.1','B8.2','B8.3','C0_1.NA','C0_2.NA','C0_3.NA','C0_4.NA','C0_5.NA','C0_6.NA','C1_m.NA','C2.NA','C3.NA','C5.NA','C6.NA','D1.NA','D2.NA','D3.NA','D4.NA','E3.NA','E4.NA','E2.NA','D1.-88', 'D2.-88', 'D4.-88','Cli','Cli_who'], axis=1)\n",
    "    Y_train = df['B8.1']\n",
    "    \n",
    "    return X_train, Y_train"
   ]
  },
  {
   "cell_type": "code",
   "execution_count": 75,
   "metadata": {},
   "outputs": [],
   "source": [
    "def preprocessing(iso2,number):\n",
    "    df = filter_data(iso2,number)\n",
    "    \n",
    "    X_test = df.drop(['Unnamed: 0','B2','B4','E5','B8.1','B8.2','B8.3','B8.NA','B7.1','B7.2','B7.NA','weight', 'Finished', 'RecordedDate','ISO_3', 'country_agg', 'region_agg','date_from_file', 'date', 'ISO2', 'age','B1_1.NA','B1_2.NA','B1_3.NA','B1_4.NA','B1_5.NA','B1_6.NA','B1_7.NA','B1_8.NA','B1_9.NA','B1_10.NA','B1_11.NA','B1_12.NA','B3.NA','B5.NA','B6.NA','B7.NA','B8.NA','B7.1','B7.2','B8.1','B8.2','B8.3','C0_1.NA','C0_2.NA','C0_3.NA','C0_4.NA','C0_5.NA','C0_6.NA','C1_m.NA','C2.NA','C3.NA','C5.NA','C6.NA','D1.NA','D2.NA','D3.NA','D4.NA','E3.NA','E4.NA','E2.NA','D1.-88', 'D2.-88', 'D4.-88','Cli','Cli_who'], axis=1)\n",
    "    Y_test = df['B8.1']\n",
    "    \n",
    "    return X_test, Y_test"
   ]
  },
  {
   "cell_type": "code",
   "execution_count": 76,
   "metadata": {},
   "outputs": [],
   "source": [
    "def warn(*args, **kwargs):\n",
    "    pass\n",
    "import warnings\n",
    "warnings.warn = warn"
   ]
  },
  {
   "cell_type": "code",
   "execution_count": 77,
   "metadata": {},
   "outputs": [],
   "source": [
    "def decision_tree(iso2,list_join,number):\n",
    "    \n",
    "    max_depth = np.arange(1, 10)\n",
    "    min_samples_leaf = [50,100,200]\n",
    "    param_grid = { 'criterion':['gini','entropy'],'max_depth': max_depth,'min_samples_leaf': min_samples_leaf}\n",
    "\n",
    "    dtree_model=tree.DecisionTreeClassifier()\n",
    "    dtree_model = GridSearchCV(dtree_model, param_grid,scoring='f1')\n",
    "    dtree_model=dtree_model.fit(preprocessing_cv(iso2,list_join)[0], preprocessing_cv(iso2,list_join)[1])\n",
    "    \n",
    "    my_model = dtree_model.best_estimator_\n",
    "    my_tree=my_model.fit(preprocessing_cv(iso2,list_join)[0], preprocessing_cv(iso2,list_join)[1])\n",
    "\n",
    "    y_pred = my_model.predict(preprocessing(iso2,number)[0])\n",
    "    \n",
    "    y_test = preprocessing(iso2,number)[1]\n",
    "\n",
    "    print(f'Accuracy Score: {accuracy_score(y_test,y_pred)}')\n",
    "    print(f'Area Under Curve: {roc_auc_score(y_test, y_pred)}')\n",
    "    print(f'Recall score: {recall_score(y_test,y_pred)}')\n",
    "    print(\"\")\n",
    "    matrix = confusion_matrix(y_test, y_pred)\n",
    "    tn, fp, fn, tp = confusion_matrix(y_test, y_pred).ravel()\n",
    "\n",
    "    print('Specificity:', tn/(tn+fp))\n",
    "    print(f'F1 score: {f1_score(y_test,y_pred)}')\n",
    "    print(f'Precision score: {precision_score(y_test,y_pred)}')\n",
    "    print(matrix)\n",
    "    print(\"\")\n",
    "    print(classification_report(y_test, y_pred))\n",
    "    plt.figure(figsize=(7,7))\n",
    "    sns.heatmap(matrix,annot=True, square = True, fmt='g')\n",
    "    plt.show()\n",
    "    \n",
    "    plot_precision_recall_curve(my_model, preprocessing(iso2,number)[0], y_test)"
   ]
  },
  {
   "cell_type": "code",
   "execution_count": 78,
   "metadata": {},
   "outputs": [
    {
     "name": "stdout",
     "output_type": "stream",
     "text": [
      "Accuracy Score: 0.9773406456274014\n",
      "Area Under Curve: 0.7093942448844608\n",
      "Recall score: 0.4233160621761658\n",
      "\n",
      "Specificity: 0.9954724275927559\n",
      "F1 score: 0.542136695421367\n",
      "Precision score: 0.753690036900369\n",
      "[[58705   267]\n",
      " [ 1113   817]]\n",
      "\n",
      "              precision    recall  f1-score   support\n",
      "\n",
      "           0       0.98      1.00      0.99     58972\n",
      "           1       0.75      0.42      0.54      1930\n",
      "\n",
      "    accuracy                           0.98     60902\n",
      "   macro avg       0.87      0.71      0.77     60902\n",
      "weighted avg       0.97      0.98      0.97     60902\n",
      "\n"
     ]
    },
    {
     "data": {
      "image/png": "[encoded data removed]",
      "text/plain": [
       "<Figure size 504x504 with 2 Axes>"
      ]
     },
     "metadata": {
      "needs_background": "light"
     },
     "output_type": "display_data"
    },
    {
     "data": {
      "image/png": "[encoded data removed]",
      "text/plain": [
       "<Figure size 432x288 with 1 Axes>"
      ]
     },
     "metadata": {
      "needs_background": "light"
     },
     "output_type": "display_data"
    }
   ],
   "source": [
    "decision_tree('DE',[1,2,3,4],5)"
   ]
  },
  {
   "cell_type": "code",
   "execution_count": 79,
   "metadata": {},
   "outputs": [],
   "source": [
    "def logistic_regression(iso2,list_join,number):\n",
    "    w = {0:3, 1:97}\n",
    "    # define model\n",
    "    lg = LogisticRegression(random_state=2, class_weight=w)\n",
    "    # fit it\n",
    "    lg.fit(preprocessing_cv(iso2,list_join)[0], preprocessing_cv(iso2,list_join)[1])\n",
    "    y_pred = lg.predict(preprocessing(iso2,number)[0])\n",
    "    \n",
    "    y_test = preprocessing(iso2,number)[1]\n",
    "    \n",
    "    print(f'Accuracy Score: {accuracy_score(y_test,y_pred)}')\n",
    "    print(f'Area Under Curve: {roc_auc_score(y_test, y_pred)}')\n",
    "    print(f'Recall score: {recall_score(y_test,y_pred)}')\n",
    "    print(\"\")\n",
    "    matrix = confusion_matrix(y_test, y_pred)\n",
    "    tn, fp, fn, tp = confusion_matrix(y_test, y_pred).ravel()\n",
    "\n",
    "    print('Specificity:', tn/(tn+fp))\n",
    "    print(f'F1 score: {f1_score(y_test,y_pred)}')\n",
    "    print(f'Precision score: {precision_score(y_test,y_pred)}')\n",
    "    print(matrix)\n",
    "    print(\"\")\n",
    "    print(classification_report(y_test, y_pred))\n",
    "    plt.figure(figsize=(7,7))\n",
    "    sns.heatmap(matrix,annot=True, square = True, fmt='g')\n",
    "    plt.show()\n",
    "\n",
    "    plot_precision_recall_curve(lg, preprocessing(iso2,number)[0], y_test)"
   ]
  },
  {
   "cell_type": "code",
   "execution_count": 80,
   "metadata": {},
   "outputs": [
    {
     "name": "stdout",
     "output_type": "stream",
     "text": [
      "Accuracy Score: 0.8986240189156349\n",
      "Area Under Curve: 0.8529305731814765\n",
      "Recall score: 0.8041450777202073\n",
      "\n",
      "Specificity: 0.9017160686427457\n",
      "F1 score: 0.3345548609614141\n",
      "Precision score: 0.21121393576483397\n",
      "[[53176  5796]\n",
      " [  378  1552]]\n",
      "\n",
      "              precision    recall  f1-score   support\n",
      "\n",
      "           0       0.99      0.90      0.95     58972\n",
      "           1       0.21      0.80      0.33      1930\n",
      "\n",
      "    accuracy                           0.90     60902\n",
      "   macro avg       0.60      0.85      0.64     60902\n",
      "weighted avg       0.97      0.90      0.93     60902\n",
      "\n"
     ]
    },
    {
     "data": {
      "image/png": "[encoded data removed]",
      "text/plain": [
       "<Figure size 504x504 with 2 Axes>"
      ]
     },
     "metadata": {
      "needs_background": "light"
     },
     "output_type": "display_data"
    },
    {
     "data": {
      "image/png": "[encoded data removed]",
      "text/plain": [
       "<Figure size 432x288 with 1 Axes>"
      ]
     },
     "metadata": {
      "needs_background": "light"
     },
     "output_type": "display_data"
    }
   ],
   "source": [
    "logistic_regression('DE', [1,2,3,4],5)"
   ]
  },
  {
   "cell_type": "code",
   "execution_count": 81,
   "metadata": {},
   "outputs": [],
   "source": [
    "def cli(iso2,number):\n",
    "    \n",
    "    df = filter_data(iso2,number)\n",
    "    \n",
    "    X = df['Cli']\n",
    "    Y = df['B8.1']\n",
    "\n",
    "    X=X.values.reshape(-1,1)\n",
    "\n",
    "    print(f'Accuracy Score: {accuracy_score(Y,X)}')\n",
    "    print(f'Area Under Curve: {roc_auc_score(Y, X)}')\n",
    "    print(f'Recall score: {recall_score(Y,X)}')\n",
    "    print(\"\")\n",
    "    matrix = confusion_matrix(Y, X)\n",
    "    tn, fp, fn, tp = confusion_matrix(Y, X).ravel()\n",
    "    print('Specificity:', tn/(tn+fp))\n",
    "    print(f'F1 score: {f1_score(Y,X)}')\n",
    "    print(f'Precision score: {precision_score(Y,X)}')\n",
    "    print(matrix)\n",
    "    print(\"\")\n",
    "    print(classification_report(Y, X))\n",
    "    plt.figure(figsize=(7,7))\n",
    "    sns.heatmap(matrix,annot=True, square = True, fmt='g')\n",
    "    plt.show()"
   ]
  },
  {
   "cell_type": "code",
   "execution_count": 82,
   "metadata": {},
   "outputs": [
    {
     "name": "stdout",
     "output_type": "stream",
     "text": [
      "Accuracy Score: 0.9673738136678598\n",
      "Area Under Curve: 0.5754451133215414\n",
      "Recall score: 0.15699481865284975\n",
      "\n",
      "Specificity: 0.9938954079902327\n",
      "F1 score: 0.2337061318935596\n",
      "Precision score: 0.45701357466063347\n",
      "[[58612   360]\n",
      " [ 1627   303]]\n",
      "\n",
      "              precision    recall  f1-score   support\n",
      "\n",
      "           0       0.97      0.99      0.98     58972\n",
      "           1       0.46      0.16      0.23      1930\n",
      "\n",
      "    accuracy                           0.97     60902\n",
      "   macro avg       0.72      0.58      0.61     60902\n",
      "weighted avg       0.96      0.97      0.96     60902\n",
      "\n"
     ]
    },
    {
     "data": {
      "image/png": "[encoded data removed]",
      "text/plain": [
       "<Figure size 504x504 with 2 Axes>"
      ]
     },
     "metadata": {
      "needs_background": "light"
     },
     "output_type": "display_data"
    }
   ],
   "source": [
    "cli('DE',5)"
   ]
  },
  {
   "cell_type": "code",
   "execution_count": 83,
   "metadata": {},
   "outputs": [],
   "source": [
    "def cli_who(iso2,number):\n",
    "    \n",
    "    df = filter_data(iso2,number)\n",
    "    \n",
    "    X = df['Cli_who']\n",
    "    Y = df['B8.1']\n",
    "\n",
    "    X=X.values.reshape(-1,1)\n",
    "\n",
    "    print(f'Accuracy Score: {accuracy_score(Y,X)}')\n",
    "    print(f'Area Under Curve: {roc_auc_score(Y, X)}')\n",
    "    print(f'Recall score: {recall_score(Y,X)}')\n",
    "    print(\"\")\n",
    "    matrix = confusion_matrix(Y, X)\n",
    "    tn, fp, fn, tp = confusion_matrix(Y, X).ravel()\n",
    "    print('Specificity:', tn/(tn+fp))\n",
    "    print(f'F1 score: {f1_score(Y,X)}')\n",
    "    print(f'Precision score: {precision_score(Y,X)}')\n",
    "    print(matrix)\n",
    "    print(\"\")\n",
    "    print(classification_report(Y, X))\n",
    "    plt.figure(figsize=(7,7))\n",
    "    sns.heatmap(matrix,annot=True, square = True, fmt='g')\n",
    "    plt.show()"
   ]
  },
  {
   "cell_type": "code",
   "execution_count": 84,
   "metadata": {},
   "outputs": [
    {
     "name": "stdout",
     "output_type": "stream",
     "text": [
      "Accuracy Score: 0.9683425831663984\n",
      "Area Under Curve: 0.5664229779373648\n",
      "Recall score: 0.13730569948186527\n",
      "\n",
      "Specificity: 0.9955402563928644\n",
      "F1 score: 0.21562245728234333\n",
      "Precision score: 0.5018939393939394\n",
      "[[58709   263]\n",
      " [ 1665   265]]\n",
      "\n",
      "              precision    recall  f1-score   support\n",
      "\n",
      "           0       0.97      1.00      0.98     58972\n",
      "           1       0.50      0.14      0.22      1930\n",
      "\n",
      "    accuracy                           0.97     60902\n",
      "   macro avg       0.74      0.57      0.60     60902\n",
      "weighted avg       0.96      0.97      0.96     60902\n",
      "\n"
     ]
    },
    {
     "data": {
      "image/png": "[encoded data removed]",
      "text/plain": [
       "<Figure size 504x504 with 2 Axes>"
      ]
     },
     "metadata": {
      "needs_background": "light"
     },
     "output_type": "display_data"
    }
   ],
   "source": [
    "cli_who('DE',5)"
   ]
  }
 ],
 "metadata": {
  "kernelspec": {
   "display_name": "Python 3",
   "language": "python",
   "name": "python3"
  },
  "language_info": {
   "codemirror_mode": {
    "name": "ipython",
    "version": 3
   },
   "file_extension": ".py",
   "mimetype": "text/x-python",
   "name": "python",
   "nbconvert_exporter": "python",
   "pygments_lexer": "ipython3",
   "version": "3.9.5"
  }
 },
 "nbformat": 4,
 "nbformat_minor": 4
}
